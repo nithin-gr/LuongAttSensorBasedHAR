{
  "nbformat": 4,
  "nbformat_minor": 0,
  "metadata": {
    "colab": {
      "name": "PoolingTaskLearning.ipynb",
      "provenance": [],
      "collapsed_sections": [
        "AP7ehblgToTE",
        "Peahj3_5nTVs"
      ]
    },
    "kernelspec": {
      "name": "python3",
      "display_name": "Python 3"
    },
    "language_info": {
      "name": "python"
    },
    "accelerator": "GPU"
  },
  "cells": [
    {
      "cell_type": "code",
      "metadata": {
        "id": "mcDeKu2ZFU2E",
        "colab": {
          "base_uri": "https://localhost:8080/"
        },
        "outputId": "05953926-42be-4ce7-d972-6a866a5297b6"
      },
      "source": [
        "from google.colab import drive\n",
        "drive.mount(\"/content/drive/\", force_remount=True)"
      ],
      "execution_count": null,
      "outputs": [
        {
          "output_type": "stream",
          "text": [
            "Mounted at /content/drive/\n"
          ],
          "name": "stdout"
        }
      ]
    },
    {
      "cell_type": "markdown",
      "metadata": {
        "id": "fKk0dnh9qfQL"
      },
      "source": [
        "##Imports"
      ]
    },
    {
      "cell_type": "code",
      "metadata": {
        "id": "5KBzbfiyFx3h",
        "colab": {
          "base_uri": "https://localhost:8080/"
        },
        "outputId": "d4a20635-1b21-4245-962c-bb945105d322"
      },
      "source": [
        "# -*- coding: utf-8 -*-\n",
        "\"\"\"\n",
        "Created on Fri Mar 19 11:01:00 2021\n",
        "PTM: all 3 sensors\n",
        "stack both ankle and wrist as input\n",
        "train a model for ankle+wrist, use trial1+trial2 data\n",
        "acts: 0-'Lying', 1-'Sitting', 2-'Standing', 3-'TUG', 4-'Walking'\n",
        "@author: hao_y\n",
        "\"\"\"\n",
        "\n",
        "#imports\n",
        "import keras\n",
        "from keras import layers, Sequential\n",
        "from keras.layers import Input, Conv1D, Conv2D, Dense, Flatten,MaxPooling2D, concatenate,Permute,Reshape,LSTM, MultiHeadAttention, AdditiveAttention, Attention\n",
        "from keras.models import Model, Sequential\n",
        "from keras.regularizers import l2\n",
        "from keras import backend as K\n",
        "from keras.optimizers import Adam \n",
        "import numpy as np\n",
        "import glob\n",
        "# from tools import convert_list, convert_y\n",
        "from sklearn import preprocessing\n",
        "import tensorflow as tf\n",
        "import matplotlib.pyplot as plt\n",
        "\n",
        "from tqdm import tqdm\n",
        "\n",
        "from sklearn.metrics import confusion_matrix\n",
        "from sklearn.metrics import accuracy_score\n",
        "from sklearn.metrics import classification_report\n",
        "import pandas as pd\n",
        "from sklearn.preprocessing import normalize\n",
        "import matplotlib.pyplot as plt\n",
        "import seaborn as sn\n",
        "from keras.models import model_from_json\n",
        "\n",
        "from imblearn.over_sampling import SMOTE, RandomOverSampler"
      ],
      "execution_count": null,
      "outputs": [
        {
          "output_type": "stream",
          "text": [
            "/usr/local/lib/python3.7/dist-packages/sklearn/externals/six.py:31: FutureWarning: The module is deprecated in version 0.21 and will be removed in version 0.23 since we've dropped support for Python 2.7. Please rely on the official version of six (https://pypi.org/project/six/).\n",
            "  \"(https://pypi.org/project/six/).\", FutureWarning)\n",
            "/usr/local/lib/python3.7/dist-packages/sklearn/utils/deprecation.py:144: FutureWarning: The sklearn.neighbors.base module is  deprecated in version 0.22 and will be removed in version 0.24. The corresponding classes / functions should instead be imported from sklearn.neighbors. Anything that cannot be imported from sklearn.neighbors is now part of the private API.\n",
            "  warnings.warn(message, FutureWarning)\n"
          ],
          "name": "stderr"
        }
      ]
    },
    {
      "cell_type": "markdown",
      "metadata": {
        "id": "19rO_6PmwEup"
      },
      "source": [
        "##Model Specifications"
      ]
    },
    {
      "cell_type": "code",
      "metadata": {
        "id": "2XeS66qDRINv"
      },
      "source": [
        "NUM_CLASSES = 4\n",
        "\n",
        "# Hardcoded length of the sliding window mechanism employed to segment the data\n",
        "SLIDING_WINDOW_LENGTH = 60\n",
        "\n",
        "# Batch Size\n",
        "BATCH_SIZE = 128\n",
        "\n",
        "# Number filters convolutional layers\n",
        "NUM_FILTERS = 64\n",
        "\n",
        "# Size filters convolutional layers\n",
        "FILTER_SIZE = 5\n",
        "\n",
        "# Number of unit in the long short-term recurrent layers\n",
        "NUM_UNITS_LSTM = 128\n",
        "\n",
        "NUM_CHANNEL = 9"
      ],
      "execution_count": null,
      "outputs": []
    },
    {
      "cell_type": "markdown",
      "metadata": {
        "id": "qIuhSwgiwS-7"
      },
      "source": [
        "##Tools\n"
      ]
    },
    {
      "cell_type": "code",
      "metadata": {
        "id": "86VIiQlPrw9X"
      },
      "source": [
        "def convert_list(my_list):\n",
        "    length = len(my_list)\n",
        "    if length == 0:\n",
        "        return\n",
        "    res = my_list[0]\n",
        "    for i in range(1, length):\n",
        "        res = np.vstack((res, my_list[i]))\n",
        "    return res\n",
        "\n",
        "def convert_y(my_list):\n",
        "    length = len(my_list)\n",
        "    if length==0:\n",
        "        return\n",
        "    res = my_list[0]\n",
        "    for i in range(1,length):\n",
        "        res = np.concatenate((res,my_list[i]))\n",
        "    return res\n",
        "\n",
        "def find_subid(path):\n",
        "    sub_id_1 = path[63]\n",
        "    sub_id_2 = path[64]\n",
        "    if sub_id_2 in ['0','1','2','3','4','5','6','7','8','9']:\n",
        "        sub_id = sub_id_1 + sub_id_2\n",
        "    else:\n",
        "        sub_id = sub_id_1\n",
        "\n",
        "    return sub_id"
      ],
      "execution_count": null,
      "outputs": []
    },
    {
      "cell_type": "markdown",
      "metadata": {
        "id": "C6HhprAoq8jW"
      },
      "source": [
        "##Functions for Loading Data"
      ]
    },
    {
      "cell_type": "markdown",
      "metadata": {
        "id": "BUa2H4ipbqjQ"
      },
      "source": [
        "####Loading All Combination of Sensors"
      ]
    },
    {
      "cell_type": "code",
      "metadata": {
        "id": "d2FIoKuBpuBm"
      },
      "source": [
        "#helper functions\n",
        "\n",
        "# to load the windowed data\n",
        "def load_tensor(path, sensor):\n",
        "    # Read the array from disk\n",
        "    #new_data = np.loadtxt('./ActiveData/Sub'+str(name)+'_data.txt')\n",
        "    new_data = np.loadtxt(path)\n",
        "    \n",
        "    #changing NUM_CHANNEL according to sensor combination type\n",
        "    combination = ['WT', 'AW']\n",
        "    single = ['A', 'W', 'T']\n",
        "    if sensor in combination:\n",
        "        NUM_CHANNEL = 6\n",
        "    elif sensor in single:\n",
        "        NUM_CHANNEL = 3\n",
        "    else:\n",
        "        NUM_CHANNEL = 9\n",
        "\n",
        "    # Note that this returned a 2D array!\n",
        "    # print(new_data.shape)\n",
        "    \n",
        "    # However, going back to 3D is easy if we know the \n",
        "    # original shape of the array\n",
        "    if sensor == \"All\":\n",
        "        pass\n",
        "    elif sensor == \"WT\":\n",
        "        new_data = new_data[:,:6]\n",
        "    elif sensor == \"AW\":\n",
        "        new_data = new_data[:,3:]\n",
        "    elif sensor == 'A':\n",
        "        new_data = new_data[:,6:]\n",
        "    elif sensor == 'W':\n",
        "        new_data = new_data[:,3:6]\n",
        "    elif sensor == 'T':\n",
        "        new_data = new_data[:,:3]\n",
        "\n",
        "    new_data = new_data.reshape((-1, SLIDING_WINDOW_LENGTH, NUM_CHANNEL))\n",
        "\n",
        "    return new_data, NUM_CHANNEL"
      ],
      "execution_count": null,
      "outputs": []
    },
    {
      "cell_type": "markdown",
      "metadata": {
        "id": "xxaOrVVBDYFk"
      },
      "source": [
        "###Normal Loading"
      ]
    },
    {
      "cell_type": "code",
      "metadata": {
        "id": "wypAH8PjpzEY"
      },
      "source": [
        "def load_by_trial(trial_id, arg, sensor): \n",
        "    #arg can be either 'train' or 'test'\n",
        "    path = '/content/drive/MyDrive/MITACS_Nithin/juravinski/data/trial'+str(trial_id)+'/*_'+arg+'_data.txt'\n",
        "    x_list = glob.glob(path)\n",
        "    # path = '/content/drive/MyDrive/MITACS_Nithin/juravinski/data/trial'+str(trial_id)+'/*_train_label.txt'\n",
        "    # y_list = glob.glob(path)\n",
        "    y_list = [i[0:-8]+'label.txt' for i in x_list]\n",
        "    X,Y = [],[]\n",
        "    for i in tqdm(range(len(x_list))):\n",
        "        x, channels = load_tensor(x_list[i], sensor)\n",
        "        y = np.loadtxt(y_list[i])\n",
        "        X.append(x)\n",
        "        Y.append(y)\n",
        "    x_ = convert_list(X)\n",
        "    y_ = convert_y(Y)\n",
        "    idx = np.where(y_==4)\n",
        "    y_[idx] = 3 \n",
        "    return x_, y_, channels"
      ],
      "execution_count": null,
      "outputs": []
    },
    {
      "cell_type": "markdown",
      "metadata": {
        "id": "U3pASS04DVMs"
      },
      "source": [
        "### Load by Subject"
      ]
    },
    {
      "cell_type": "code",
      "metadata": {
        "id": "ZuYWa1OhFSS7"
      },
      "source": [
        "def load_by_subject(id, arg, trial_id, sensor):\n",
        "    x_path = '/content/drive/MyDrive/MITACS_Nithin/juravinski/data/trial'+str(trial_id)+'/Sub'+str(id)+'_'+arg+'_data.txt'\n",
        "    y_path = '/content/drive/MyDrive/MITACS_Nithin/juravinski/data/trial'+str(trial_id)+'/Sub'+str(id)+'_'+arg+'_label.txt'\n",
        "    x_data, _ = load_tensor(x_path, sensor)\n",
        "    y_data = np.loadtxt(y_path) \n",
        "\n",
        "    return x_data, y_data"
      ],
      "execution_count": null,
      "outputs": []
    },
    {
      "cell_type": "code",
      "metadata": {
        "id": "fj_snEZG_a2V"
      },
      "source": [
        "# subject1 = 12\n",
        "# subject2 = 21\n",
        "\n",
        "# sensor = \"T\"\n",
        "\n",
        "import seaborn as sns\n",
        "def get_plot_data(subject, sensor):\n",
        "\n",
        "    \n",
        "\n",
        "    #for subject1 \n",
        "    # -------------------------------------------------------------------------------\n",
        "\n",
        "    x1train1, y1 = load_by_subject(subject, 'train', 1, sensor)\n",
        "    x1train2, y2 = load_by_subject(subject, 'train', 2, sensor)\n",
        "\n",
        "    x1test1, Y1 = load_by_subject(subject, 'test', 1, sensor)\n",
        "    x1test2, Y2 = load_by_subject(subject, 'test', 2, sensor)\n",
        "\n",
        "    #for subject 2\n",
        "    # -------------------------------------------------------------------------------\n",
        "\n",
        "    # x2train1, y3 = load_by_subject(subject2, 'train', 2, sensor)\n",
        "    # x2train2, y4 = load_by_subject(subject2, 'train', 2, sensor)\n",
        "\n",
        "    # x2test1, Y3 = load_by_subject(subject2, 'test', 2, sensor)\n",
        "    # x2test2, Y4 = load_by_subject(subject2, 'test', 2, sensor)\n",
        "\n",
        "    # -------------------------------------------------------------------------------\n",
        "\n",
        "    X_train1 = np.vstack((x1train1,x1train2))\n",
        "    # X_train2 = np.vstack((x2train1,x2train2))\n",
        "\n",
        "    y_train1 = np.concatenate((y1,y2))\n",
        "    # y_train2 = np.concatenate((y3,y4))\n",
        "\n",
        "    # print(X_train1.shape, \"Xtrain1\")\n",
        "    # print(X_train2.shape, \"Xtrain2\")\n",
        "\n",
        "    # -------------------------------------------------------------------------------\n",
        "\n",
        "    X_test1 = np.vstack((x1test1,x1test2))\n",
        "    # X_test2 = np.vstack((x2test1,x2test2))\n",
        "\n",
        "    y_test1 = np.concatenate((Y1,Y2))\n",
        "    # y_test2 = np.concatenate((Y3,Y4))\n",
        "\n",
        "    # print(X_test1.shape, \"Xtest1\")\n",
        "    # print(X_test2.shape, \"Xtest2\")\n",
        "\n",
        "    # -------------------------------------------------------------------------------\n",
        "\n",
        "\n",
        "    x1 = np.vstack((X_train1,X_test1))\n",
        "    # x2 = np.vstack((X_train2,X_test2))\n",
        "\n",
        "    y1 = np.concatenate((y_train1,y_test1))\n",
        "    # y2 = np.concatenate((y_train2,y_test2))\n",
        "\n",
        "    # print(y1.shape)\n",
        "    # print(y2.shape)\n",
        "\n",
        "    # idx1 = np.where(y1==3)\n",
        "    # idx2 = np.where(y2==3)\n",
        "\n",
        "    # print(x1.shape, \"X1 before\")\n",
        "    # print(x2.shape, \"X2 before\")\n",
        "\n",
        "    # x1_change = x1[idx1]\n",
        "    # x2_change = x2[idx2]\n",
        "\n",
        "    # print(x1_change.shape, \"X1 mid\")\n",
        "    # print(x2_change.shape, \"X2 mid\")\n",
        "\n",
        "    x1 = np.reshape(x1, (int(x1.shape[0])*60, 3))\n",
        "    # x2 = np.reshape(x2, (int(x2.shape[0])*60, 3))\n",
        "\n",
        "\n",
        "    # print(x1.shape, \"X1 after\")\n",
        "    # print(x2.shape, \"X2 after\")\n",
        "    return x1"
      ],
      "execution_count": null,
      "outputs": []
    },
    {
      "cell_type": "code",
      "metadata": {
        "id": "2YRVWbfJYgTg"
      },
      "source": [
        "def get_plot_data_walking(subject, sensor):\n",
        "\n",
        "    \n",
        "\n",
        "    #for subject1 \n",
        "    # -------------------------------------------------------------------------------\n",
        "\n",
        "    x1train1, y1 = load_by_subject(subject, 'train', 1, sensor)\n",
        "    x1train2, y2 = load_by_subject(subject, 'train', 2, sensor)\n",
        "\n",
        "    x1test1, Y1 = load_by_subject(subject, 'test', 1, sensor)\n",
        "    x1test2, Y2 = load_by_subject(subject, 'test', 2, sensor)\n",
        "\n",
        "    #for subject 2\n",
        "    # -------------------------------------------------------------------------------\n",
        "\n",
        "    # x2train1, y3 = load_by_subject(subject2, 'train', 2, sensor)\n",
        "    # x2train2, y4 = load_by_subject(subject2, 'train', 2, sensor)\n",
        "\n",
        "    # x2test1, Y3 = load_by_subject(subject2, 'test', 2, sensor)\n",
        "    # x2test2, Y4 = load_by_subject(subject2, 'test', 2, sensor)\n",
        "\n",
        "    # -------------------------------------------------------------------------------\n",
        "\n",
        "    X_train1 = np.vstack((x1train1,x1train2))\n",
        "    # X_train2 = np.vstack((x2train1,x2train2))\n",
        "\n",
        "    y_train1 = np.concatenate((y1,y2))\n",
        "    # y_train2 = np.concatenate((y3,y4))\n",
        "\n",
        "    # print(X_train1.shape, \"Xtrain1\")\n",
        "    # print(X_train2.shape, \"Xtrain2\")\n",
        "\n",
        "    # -------------------------------------------------------------------------------\n",
        "\n",
        "    X_test1 = np.vstack((x1test1,x1test2))\n",
        "    # X_test2 = np.vstack((x2test1,x2test2))\n",
        "\n",
        "    y_test1 = np.concatenate((Y1,Y2))\n",
        "    # y_test2 = np.concatenate((Y3,Y4))\n",
        "\n",
        "    # print(X_test1.shape, \"Xtest1\")\n",
        "    # print(X_test2.shape, \"Xtest2\")\n",
        "\n",
        "    # -------------------------------------------------------------------------------\n",
        "\n",
        "\n",
        "    x1 = np.vstack((X_train1,X_test1))\n",
        "    # x2 = np.vstack((X_train2,X_test2))\n",
        "\n",
        "    y1 = np.concatenate((y_train1,y_test1))\n",
        "    # y2 = np.concatenate((y_train2,y_test2))\n",
        "\n",
        "    # print(y1.shape)\n",
        "    # print(y2.shape)\n",
        "\n",
        "    idx1 = np.where(y1>=3)\n",
        "    # idx2 = np.where(y2==3)\n",
        "\n",
        "    # print(x1.shape, \"X1 before\")\n",
        "    # print(x2.shape, \"X2 before\")\n",
        "\n",
        "    x1_change = x1[idx1]\n",
        "    # x2_change = x2[idx2]\n",
        "\n",
        "    # print(x1_change.shape, \"X1 mid\")\n",
        "    # print(x2_change.shape, \"X2 mid\")\n",
        "\n",
        "    x1 = np.reshape(x1_change, (int(x1_change.shape[0])*60, 3))\n",
        "    # x2 = np.reshape(x2, (int(x2.shape[0])*60, 3))\n",
        "\n",
        "\n",
        "    # print(x1.shape, \"X1 after\")\n",
        "    # print(x2.shape, \"X2 after\")\n",
        "    return x1"
      ],
      "execution_count": null,
      "outputs": []
    },
    {
      "cell_type": "code",
      "metadata": {
        "colab": {
          "base_uri": "https://localhost:8080/"
        },
        "id": "7sRkUkQeE1p1",
        "outputId": "251ac2ca-2727-4856-f830-9906edbd6d31"
      },
      "source": [
        "sensor = 'T'\n",
        "data = []\n",
        "for i in tqdm(range(0, 30)):\n",
        "    if i==23:\n",
        "        continue\n",
        "    else:\n",
        "        data.append(get_plot_data(i, sensor))"
      ],
      "execution_count": null,
      "outputs": [
        {
          "output_type": "stream",
          "text": [
            "\n",
            "  0%|          | 0/30 [00:00<?, ?it/s]\u001b[A\n",
            "  3%|▎         | 1/30 [00:02<01:00,  2.10s/it]\u001b[A\n",
            "  7%|▋         | 2/30 [00:04<01:04,  2.31s/it]\u001b[A\n",
            " 10%|█         | 3/30 [00:07<01:06,  2.46s/it]\u001b[A\n",
            " 13%|█▎        | 4/30 [00:10<01:06,  2.57s/it]\u001b[A\n",
            " 17%|█▋        | 5/30 [00:13<01:07,  2.70s/it]\u001b[A\n",
            " 20%|██        | 6/30 [00:18<01:24,  3.50s/it]\u001b[A\n",
            " 23%|██▎       | 7/30 [00:23<01:24,  3.68s/it]\u001b[A\n",
            " 27%|██▋       | 8/30 [00:27<01:25,  3.90s/it]\u001b[A\n",
            " 30%|███       | 9/30 [00:31<01:22,  3.95s/it]\u001b[A\n",
            " 33%|███▎      | 10/30 [00:35<01:18,  3.94s/it]\u001b[A\n",
            " 37%|███▋      | 11/30 [00:38<01:08,  3.58s/it]\u001b[A\n",
            " 40%|████      | 12/30 [00:43<01:12,  4.05s/it]\u001b[A\n",
            " 43%|████▎     | 13/30 [00:47<01:10,  4.14s/it]\u001b[A\n",
            " 47%|████▋     | 14/30 [00:52<01:08,  4.27s/it]\u001b[A\n",
            " 50%|█████     | 15/30 [00:57<01:09,  4.60s/it]\u001b[A\n",
            " 53%|█████▎    | 16/30 [01:06<01:22,  5.87s/it]\u001b[A\n",
            " 57%|█████▋    | 17/30 [01:10<01:10,  5.41s/it]\u001b[A\n",
            " 60%|██████    | 18/30 [01:14<01:00,  5.01s/it]\u001b[A\n",
            " 63%|██████▎   | 19/30 [01:19<00:52,  4.79s/it]\u001b[A\n",
            " 67%|██████▋   | 20/30 [01:23<00:47,  4.77s/it]\u001b[A\n",
            " 70%|███████   | 21/30 [01:27<00:40,  4.47s/it]\u001b[A\n",
            " 73%|███████▎  | 22/30 [01:30<00:32,  4.01s/it]\u001b[A\n",
            " 77%|███████▋  | 23/30 [01:34<00:28,  4.13s/it]\u001b[A\n",
            " 83%|████████▎ | 25/30 [01:40<00:18,  3.66s/it]\u001b[A\n",
            " 87%|████████▋ | 26/30 [01:44<00:15,  3.89s/it]\u001b[A\n",
            " 90%|█████████ | 27/30 [01:48<00:11,  3.92s/it]\u001b[A\n",
            " 93%|█████████▎| 28/30 [01:52<00:07,  3.92s/it]\u001b[A\n",
            " 97%|█████████▋| 29/30 [01:57<00:04,  4.12s/it]\u001b[A\n",
            "100%|██████████| 30/30 [02:01<00:00,  4.04s/it]\n"
          ],
          "name": "stderr"
        }
      ]
    },
    {
      "cell_type": "code",
      "metadata": {
        "colab": {
          "base_uri": "https://localhost:8080/"
        },
        "id": "F9PYPc5lYc3l",
        "outputId": "79375c70-1b61-44c3-f8c6-98e8848b2d3c"
      },
      "source": [
        "sensor = 'T'\n",
        "data_walking = []\n",
        "for i in tqdm(range(0, 30)):\n",
        "    if i==23:\n",
        "        continue\n",
        "    else:\n",
        "        data_walking.append(get_plot_data_walking(i, sensor))"
      ],
      "execution_count": null,
      "outputs": [
        {
          "output_type": "stream",
          "text": [
            "100%|██████████| 30/30 [03:54<00:00,  7.81s/it]\n"
          ],
          "name": "stderr"
        }
      ]
    },
    {
      "cell_type": "code",
      "metadata": {
        "colab": {
          "base_uri": "https://localhost:8080/",
          "height": 1000
        },
        "id": "aOUpDPH_X5fF",
        "outputId": "8ecf3c28-e2a2-45e8-b528-584abe19ce62"
      },
      "source": [
        "subject_list = [12,11,10,4,5,8,10,20,6,9,21,24]\n",
        "for i in subject_list:\n",
        "    sns.displot(data[i])"
      ],
      "execution_count": null,
      "outputs": [
        {
          "output_type": "display_data",
          "data": {
            "image/png": "[encoded data removed]",
            "text/plain": [
              "<Figure size 402.375x360 with 1 Axes>"
            ]
          },
          "metadata": {
            "tags": [],
            "needs_background": "light"
          }
        },
        {
          "output_type": "display_data",
          "data": {
            "image/png": "[encoded data removed]",
            "text/plain": [
              "<Figure size 402.375x360 with 1 Axes>"
            ]
          },
          "metadata": {
            "tags": [],
            "needs_background": "light"
          }
        },
        {
          "output_type": "display_data",
          "data": {
            "image/png": "[encoded data removed]",
            "text/plain": [
              "<Figure size 402.375x360 with 1 Axes>"
            ]
          },
          "metadata": {
            "tags": [],
            "needs_background": "light"
          }
        },
        {
          "output_type": "display_data",
          "data": {
            "image/png": "[encoded data removed]",
            "text/plain": [
              "<Figure size 402.375x360 with 1 Axes>"
            ]
          },
          "metadata": {
            "tags": [],
            "needs_background": "light"
          }
        },
        {
          "output_type": "display_data",
          "data": {
            "image/png": "[encoded data removed]",
            "text/plain": [
              "<Figure size 402.375x360 with 1 Axes>"
            ]
          },
          "metadata": {
            "tags": [],
            "needs_background": "light"
          }
        },
        {
          "output_type": "display_data",
          "data": {
            "image/png": "[encoded data removed]",
            "text/plain": [
              "<Figure size 402.375x360 with 1 Axes>"
            ]
          },
          "metadata": {
            "tags": [],
            "needs_background": "light"
          }
        },
        {
          "output_type": "display_data",
          "data": {
            "image/png": "[encoded data removed]",
            "text/plain": [
              "<Figure size 402.375x360 with 1 Axes>"
            ]
          },
          "metadata": {
            "tags": [],
            "needs_background": "light"
          }
        },
        {
          "output_type": "display_data",
          "data": {
            "image/png": "[encoded data removed]",
            "text/plain": [
              "<Figure size 402.375x360 with 1 Axes>"
            ]
          },
          "metadata": {
            "tags": [],
            "needs_background": "light"
          }
        },
        {
          "output_type": "display_data",
          "data": {
            "image/png": "[encoded data removed]",
            "text/plain": [
              "<Figure size 402.375x360 with 1 Axes>"
            ]
          },
          "metadata": {
            "tags": [],
            "needs_background": "light"
          }
        },
        {
          "output_type": "display_data",
          "data": {
            "image/png": "[encoded data removed]",
            "text/plain": [
              "<Figure size 402.375x360 with 1 Axes>"
            ]
          },
          "metadata": {
            "tags": [],
            "needs_background": "light"
          }
        },
        {
          "output_type": "display_data",
          "data": {
            "image/png": "[encoded data removed]",
            "text/plain": [
              "<Figure size 402.375x360 with 1 Axes>"
            ]
          },
          "metadata": {
            "tags": [],
            "needs_background": "light"
          }
        },
        {
          "output_type": "display_data",
          "data": {
            "image/png": "[encoded data removed]",
            "text/plain": [
              "<Figure size 402.375x360 with 1 Axes>"
            ]
          },
          "metadata": {
            "tags": [],
            "needs_background": "light"
          }
        }
      ]
    },
    {
      "cell_type": "code",
      "metadata": {
        "colab": {
          "base_uri": "https://localhost:8080/"
        },
        "id": "R4QlLmTkaA2q",
        "outputId": "6668fa9b-3ea8-435d-8bbc-aef0ee56190d"
      },
      "source": [
        "x1 = data_walking[11]\n",
        "print(x1.shape)\n"
      ],
      "execution_count": null,
      "outputs": [
        {
          "output_type": "stream",
          "text": [
            "(24120, 3)\n"
          ],
          "name": "stdout"
        }
      ]
    },
    {
      "cell_type": "code",
      "metadata": {
        "id": "k94S5Z2QDrKY"
      },
      "source": [
        "import numpy as np\n",
        "import matplotlib.pyplot as plt\n",
        "\n",
        "np.random.seed(19680801)\n",
        "\n",
        "n_bins = 10\n",
        "x = np.random.randn(1000, 3)\n",
        "\n",
        "fig, ((ax0, ax1), (ax2, ax3)) = plt.subplots(nrows=2, ncols=2)\n",
        "\n",
        "colors = ['red', 'tan', 'lime']\n",
        "ax0.hist(x, n_bins, density=True, histtype='bar', color=colors, label=colors)\n",
        "ax0.legend(prop={'size': 10})\n",
        "ax0.set_title('bars with legend')\n",
        "\n",
        "ax1.hist(x, n_bins, density=True, histtype='bar', stacked=True)\n",
        "ax1.set_title('stacked bar')\n",
        "\n",
        "ax2.hist(x, n_bins, histtype='step', stacked=True, fill=False)\n",
        "ax2.set_title('stack step (unfilled)')\n",
        "\n",
        "# Make a multiple-histogram of data-sets with different length.\n",
        "x_multi = [np.array(df['x'])]\n",
        "ax3.hist(x_multi, n_bins, histtype='bar')\n",
        "ax3.set_title('different sample sizes')\n",
        "\n",
        "fig.tight_layout()\n",
        "plt.show()\n"
      ],
      "execution_count": null,
      "outputs": []
    },
    {
      "cell_type": "code",
      "metadata": {
        "colab": {
          "base_uri": "https://localhost:8080/",
          "height": 587
        },
        "id": "U9IZpgkTzeib",
        "outputId": "82edfb70-870a-4728-e4cd-e02ee21e4120"
      },
      "source": [
        "df1 = pd.DataFrame(x1, columns = ['x','y','z'])\n",
        "g = sns.displot(df1)\n",
        "line = g.get_lines()[0]\n",
        "xd = line.get_xdata()\n",
        "yd = line.get_ydata()\n",
        "def normalize(x):\n",
        "    return (x - x.min(0)) / x.ptp(0)\n",
        "#normalize points\n",
        "yd2 = normalize(yd)\n",
        "# plot them in another graph\n",
        "plt.plot(x, y)\n",
        "plt.xlabel('X input', fontsize=14)\n",
        "plt.ylabel('Y output', fontsize=14)\n",
        "ax2.set_title('basic distplot (kde=True)\\nwith normalized y plot values')\n",
        "\n",
        "\n",
        "plt.show()\n",
        "g.set_axis_labels(\"Sensor Values\", \"Count\")\n",
        "g.set(ylim = [0,1])"
      ],
      "execution_count": null,
      "outputs": [
        {
          "output_type": "error",
          "ename": "AttributeError",
          "evalue": "ignored",
          "traceback": [
            "\u001b[0;31m---------------------------------------------------------------------------\u001b[0m",
            "\u001b[0;31mAttributeError\u001b[0m                            Traceback (most recent call last)",
            "\u001b[0;32m<ipython-input-60-0daafb4e8a5c>\u001b[0m in \u001b[0;36m<module>\u001b[0;34m()\u001b[0m\n\u001b[1;32m      1\u001b[0m \u001b[0mdf1\u001b[0m \u001b[0;34m=\u001b[0m \u001b[0mpd\u001b[0m\u001b[0;34m.\u001b[0m\u001b[0mDataFrame\u001b[0m\u001b[0;34m(\u001b[0m\u001b[0mx1\u001b[0m\u001b[0;34m,\u001b[0m \u001b[0mcolumns\u001b[0m \u001b[0;34m=\u001b[0m \u001b[0;34m[\u001b[0m\u001b[0;34m'x'\u001b[0m\u001b[0;34m,\u001b[0m\u001b[0;34m'y'\u001b[0m\u001b[0;34m,\u001b[0m\u001b[0;34m'z'\u001b[0m\u001b[0;34m]\u001b[0m\u001b[0;34m)\u001b[0m\u001b[0;34m\u001b[0m\u001b[0;34m\u001b[0m\u001b[0m\n\u001b[1;32m      2\u001b[0m \u001b[0mg\u001b[0m \u001b[0;34m=\u001b[0m \u001b[0msns\u001b[0m\u001b[0;34m.\u001b[0m\u001b[0mdisplot\u001b[0m\u001b[0;34m(\u001b[0m\u001b[0mdf1\u001b[0m\u001b[0;34m)\u001b[0m\u001b[0;34m\u001b[0m\u001b[0;34m\u001b[0m\u001b[0m\n\u001b[0;32m----> 3\u001b[0;31m \u001b[0mline\u001b[0m \u001b[0;34m=\u001b[0m \u001b[0mg\u001b[0m\u001b[0;34m.\u001b[0m\u001b[0mget_lines\u001b[0m\u001b[0;34m(\u001b[0m\u001b[0;34m)\u001b[0m\u001b[0;34m[\u001b[0m\u001b[0;36m0\u001b[0m\u001b[0;34m]\u001b[0m\u001b[0;34m\u001b[0m\u001b[0;34m\u001b[0m\u001b[0m\n\u001b[0m\u001b[1;32m      4\u001b[0m \u001b[0mxd\u001b[0m \u001b[0;34m=\u001b[0m \u001b[0mline\u001b[0m\u001b[0;34m.\u001b[0m\u001b[0mget_xdata\u001b[0m\u001b[0;34m(\u001b[0m\u001b[0;34m)\u001b[0m\u001b[0;34m\u001b[0m\u001b[0;34m\u001b[0m\u001b[0m\n\u001b[1;32m      5\u001b[0m \u001b[0myd\u001b[0m \u001b[0;34m=\u001b[0m \u001b[0mline\u001b[0m\u001b[0;34m.\u001b[0m\u001b[0mget_ydata\u001b[0m\u001b[0;34m(\u001b[0m\u001b[0;34m)\u001b[0m\u001b[0;34m\u001b[0m\u001b[0;34m\u001b[0m\u001b[0m\n",
            "\u001b[0;31mAttributeError\u001b[0m: 'FacetGrid' object has no attribute 'get_lines'"
          ]
        },
        {
          "output_type": "display_data",
          "data": {
            "image/png": "[encoded data removed]",
            "text/plain": [
              "<Figure size 401.875x360 with 1 Axes>"
            ]
          },
          "metadata": {
            "tags": [],
            "needs_background": "light"
          }
        }
      ]
    },
    {
      "cell_type": "code",
      "metadata": {
        "colab": {
          "base_uri": "https://localhost:8080/",
          "height": 400
        },
        "id": "XcRGhKUAeQBQ",
        "outputId": "c667ff64-a05a-4aa7-a9f6-6e12a8c1d108"
      },
      "source": [
        "x2 = data_walking[3]\n",
        "df2 = pd.DataFrame(x2, columns = ['x','y','z'])\n",
        "g = sns.displot(df2, stat='probability')\n",
        "g.set_axis_labels(\"Sensor Values\", \"Probability\")"
      ],
      "execution_count": null,
      "outputs": [
        {
          "output_type": "execute_result",
          "data": {
            "text/plain": [
              "<seaborn.axisgrid.FacetGrid at 0x7f8654f0a210>"
            ]
          },
          "metadata": {
            "tags": []
          },
          "execution_count": 82
        },
        {
          "output_type": "display_data",
          "data": {
            "image/png": "[encoded data removed]",
            "text/plain": [
              "<Figure size 401.875x360 with 1 Axes>"
            ]
          },
          "metadata": {
            "tags": [],
            "needs_background": "light"
          }
        }
      ]
    },
    {
      "cell_type": "code",
      "metadata": {
        "colab": {
          "base_uri": "https://localhost:8080/",
          "height": 400
        },
        "id": "cf18Tl2jT4mE",
        "outputId": "11b53ab4-2efa-47aa-bf75-441612638e31"
      },
      "source": [
        "x3 = data_walking[11]\n",
        "df3 = pd.DataFrame(x3, columns = ['x','y','z'])\n",
        "g = sns.displot(df3, stat='probability')\n",
        "g.set_axis_labels(\"Sensor Values\", \"Probability\")"
      ],
      "execution_count": null,
      "outputs": [
        {
          "output_type": "execute_result",
          "data": {
            "text/plain": [
              "<seaborn.axisgrid.FacetGrid at 0x7f867c54c810>"
            ]
          },
          "metadata": {
            "tags": []
          },
          "execution_count": 74
        },
        {
          "output_type": "display_data",
          "data": {
            "image/png": "[encoded data removed]",
            "text/plain": [
              "<Figure size 401.875x360 with 1 Axes>"
            ]
          },
          "metadata": {
            "tags": [],
            "needs_background": "light"
          }
        }
      ]
    },
    {
      "cell_type": "code",
      "metadata": {
        "colab": {
          "base_uri": "https://localhost:8080/",
          "height": 322
        },
        "id": "Src_pa2Xh29E",
        "outputId": "936560ca-1cb3-43a9-e634-299b6ca7fdd1"
      },
      "source": [
        "x3 = data_walking[11]\n",
        "df3 = pd.DataFrame(x3, columns = ['x','y','z'])\n",
        "g = sns.distplot(df3, norm_hist=True)\n",
        "# g.set_axis_labels(\"Sensor Values\", \"Count\")"
      ],
      "execution_count": null,
      "outputs": [
        {
          "output_type": "stream",
          "text": [
            "/usr/local/lib/python3.7/dist-packages/seaborn/distributions.py:2557: FutureWarning: `distplot` is a deprecated function and will be removed in a future version. Please adapt your code to use either `displot` (a figure-level function with similar flexibility) or `histplot` (an axes-level function for histograms).\n",
            "  warnings.warn(msg, FutureWarning)\n"
          ],
          "name": "stderr"
        },
        {
          "output_type": "display_data",
          "data": {
            "image/png": "[encoded data removed]",
            "text/plain": [
              "<Figure size 432x288 with 1 Axes>"
            ]
          },
          "metadata": {
            "tags": [],
            "needs_background": "light"
          }
        }
      ]
    },
    {
      "cell_type": "code",
      "metadata": {
        "colab": {
          "base_uri": "https://localhost:8080/",
          "height": 369
        },
        "id": "vZPlGpYgKjm1",
        "outputId": "4aee0040-756a-4907-8d15-7b91fa3abbd5"
      },
      "source": [
        "n_bins = 100\n",
        "fig, axes = plt.subplots(figsize=(5,5))\n",
        "x_multi = [np.array(df2['x']), np.array(df2['y']), np.array(df2['z'])]\n",
        "axes.hist(x_multi, n_bins, density='True',  histtype='stepfilled')\n",
        "axes.set_title('Data Distributions')\n",
        "\n",
        "fig.tight_layout()\n",
        "plt.show()"
      ],
      "execution_count": null,
      "outputs": [
        {
          "output_type": "display_data",
          "data": {
            "image/png": "[encoded data removed]",
            "text/plain": [
              "<Figure size 360x360 with 1 Axes>"
            ]
          },
          "metadata": {
            "tags": [],
            "needs_background": "light"
          }
        }
      ]
    },
    {
      "cell_type": "code",
      "metadata": {
        "colab": {
          "base_uri": "https://localhost:8080/"
        },
        "id": "waosmHUOPyLC",
        "outputId": "874aafd0-2ce9-40bf-872e-201b4fdbae38"
      },
      "source": [
        "b,c = np.unique(np.array(df1['x']), return_counts=True)\n",
        "print(np.sum(c))"
      ],
      "execution_count": null,
      "outputs": [
        {
          "output_type": "stream",
          "text": [
            "24120\n"
          ],
          "name": "stdout"
        }
      ]
    },
    {
      "cell_type": "code",
      "metadata": {
        "id": "NN1hQ0jnF7ms"
      },
      "source": [
        "import matplotlib\n",
        "x2 = data_walking[3]\n",
        "df2 = pd.DataFrame(x2, columns = ['x','y','z'])\n",
        "a = matplotlib.colors.Normalize()\n",
        "g = sns.displot(df2, kind='kde', hue_norm = a)\n",
        "g.set_axis_labels(\"Sensor Values\", \"Count\")"
      ],
      "execution_count": null,
      "outputs": []
    },
    {
      "cell_type": "code",
      "metadata": {
        "id": "gXdZi6cyA4cZ"
      },
      "source": [
        "def load_by_trial_unksub(trial_id, sensor, subject): \n",
        "    #pass the argument 'subject' as list of subjects to be used for testing\n",
        "    #loads the passed subjects id from the test distribution and rest of the subjects from the train distribution\n",
        "    #arg can be either 'train' or 'test'\n",
        "    #both train and test are loaded here, can use the predict function directly\n",
        "    train_path = '/content/drive/MyDrive/MITACS_Nithin/juravinski/data/trial'+str(trial_id)+'/*_train_data.txt'\n",
        "    x_list = glob.glob(train_path)\n",
        "    y_list = [i[0:-8]+'label.txt' for i in x_list]\n",
        "    X_train,y_train, X_test, y_test = [],[],[],[]\n",
        "    for i in tqdm(range(len(x_list))):\n",
        "        sub_id = find_subid(x_list[i])\n",
        "        if sub_id in subject:\n",
        "            x_data, y_data = load_by_subject(sub_id, 'test', trial_id, sensor)\n",
        "            X_test.append(x_data)\n",
        "            y_test.append(y_data)\n",
        "        else:\n",
        "            x, channels = load_tensor(x_list[i], sensor)\n",
        "            y = np.loadtxt(y_list[i])\n",
        "            X_train.append(x)\n",
        "            y_train.append(y)\n",
        "\n",
        "    X_train = convert_list(X_train)\n",
        "    X_test = convert_list(X_test)\n",
        "    y_train = convert_y(y_train)\n",
        "    y_test = convert_y(y_test)\n",
        "    train_idx = np.where(y_train==4)\n",
        "    test_idx = np.where(y_test==4)\n",
        "    y_train[train_idx] = 3 \n",
        "    y_test[test_idx] = 3\n",
        "    return X_train, y_train, X_test, y_test, channels"
      ],
      "execution_count": null,
      "outputs": []
    },
    {
      "cell_type": "markdown",
      "metadata": {
        "id": "m_n7Hx753Qzi"
      },
      "source": [
        "###Loading Train Data - Normal"
      ]
    },
    {
      "cell_type": "code",
      "metadata": {
        "id": "TYjxJd-6p2y4"
      },
      "source": [
        "# =============================================================================\n",
        "# load data and train\n",
        "# in the order of ['thigh','wrist','ankle']\n",
        "# =============================================================================\n",
        "sensor = 'All'\n",
        "x1,y1,channels = load_by_trial(1, 'train', sensor)\n",
        "x2,y2,channels = load_by_trial(2, 'train', sensor)\n",
        "\n",
        "import collections\n",
        "\n",
        "X_train = np.vstack((x1,x2))\n",
        "y_train = np.concatenate((y1,y2))\n",
        "print(collections.Counter(y_train))\n",
        "\n",
        "from imblearn.over_sampling import RandomOverSampler\n",
        "oversample = RandomOverSampler()\n",
        "X_train = X_train.reshape(-1,SLIDING_WINDOW_LENGTH*channels)\n",
        "X_train, y_train = oversample.fit_resample(X_train, y_train)\n",
        "print(collections.Counter(y_train))\n",
        "X_train = X_train.reshape(-1,1,SLIDING_WINDOW_LENGTH,channels)\n",
        "\n",
        "\n",
        "labels = np.array([0,1,2,3])\n",
        "lb = preprocessing.LabelBinarizer()\n",
        "lb.fit(y=labels)\n",
        "\n",
        "y_onehot_train = lb.transform(y_train) \n",
        "NUM_CHANNEL = channels"
      ],
      "execution_count": null,
      "outputs": []
    },
    {
      "cell_type": "markdown",
      "metadata": {
        "id": "bRJ89qh3D2zB"
      },
      "source": [
        "###Loading Train Data - Subject Based"
      ]
    },
    {
      "cell_type": "code",
      "metadata": {
        "id": "IHepPlxrD1xd"
      },
      "source": [
        "# =============================================================================\n",
        "# load data and train\n",
        "# in the order of ['thigh','wrist','ankle']\n",
        "# =============================================================================\n",
        "sensor = 'T'\n",
        "testing_subjects = ['20']\n",
        "xtrain1, ytrain1, xtest1, ytest1, channels = load_by_trial_unksub(1, sensor, subject = testing_subjects)\n",
        "xtrain2, ytrain2, xtest2, ytest2, channels = load_by_trial_unksub(2, sensor, subject=testing_subjects)\n",
        "\n",
        "import collections\n",
        "\n",
        "X_train = np.vstack((xtrain1,xtrain2))\n",
        "X_test = np.vstack((xtest1,xtest2))\n",
        "\n",
        "y_train = np.concatenate((ytrain1,ytrain2))\n",
        "y_test = np.concatenate((ytest1,ytest2))\n",
        "print(collections.Counter(y_train))\n",
        "\n",
        "from imblearn.over_sampling import RandomOverSampler\n",
        "oversample = RandomOverSampler()\n",
        "X_train = X_train.reshape(-1,SLIDING_WINDOW_LENGTH*channels)\n",
        "X_train, y_train = oversample.fit_resample(X_train, y_train)\n",
        "print(collections.Counter(y_train))\n",
        "X_train = X_train.reshape(-1,1,SLIDING_WINDOW_LENGTH,channels)\n",
        "X_test = X_test.reshape(-1,1,SLIDING_WINDOW_LENGTH,channels)\n",
        "\n",
        "\n",
        "labels = np.array([0,1,2,3])\n",
        "lb = preprocessing.LabelBinarizer()\n",
        "lb.fit(y=labels)\n",
        "\n",
        "y_onehot_train = lb.transform(y_train) \n",
        "# y_onehot_test = lb.transform(y_test)\n",
        "NUM_CHANNEL = channels"
      ],
      "execution_count": null,
      "outputs": []
    },
    {
      "cell_type": "code",
      "metadata": {
        "id": "QfpHpFqxcTJf"
      },
      "source": [
        "NUM_CHANNEL = channels"
      ],
      "execution_count": null,
      "outputs": []
    },
    {
      "cell_type": "code",
      "metadata": {
        "id": "sx8zFWz-M2je"
      },
      "source": [
        "print(X.shape, y_onehot.shape)"
      ],
      "execution_count": null,
      "outputs": []
    },
    {
      "cell_type": "markdown",
      "metadata": {
        "id": "AnGbMLJByDMf"
      },
      "source": [
        "###Without Oversampling"
      ]
    },
    {
      "cell_type": "code",
      "metadata": {
        "id": "X9VNknb2oqUt"
      },
      "source": [
        "# X = np.reshape(X, (-1, SLIDING_WINDOW_LENGTH,channels))\n",
        "X = X.reshape(-1,1,SLIDING_WINDOW_LENGTH,channels)"
      ],
      "execution_count": null,
      "outputs": []
    },
    {
      "cell_type": "code",
      "metadata": {
        "id": "oXMUmaEFMjbD"
      },
      "source": [
        "print (X.shape, y_onehot.shape)"
      ],
      "execution_count": null,
      "outputs": []
    },
    {
      "cell_type": "markdown",
      "metadata": {
        "id": "bLDBVJ7xxr0Q"
      },
      "source": [
        "###Smote Oversampling"
      ]
    },
    {
      "cell_type": "code",
      "metadata": {
        "id": "oin46oJi7SMT"
      },
      "source": [
        "##smote oversampling currently not used, instead use random oversampling\n",
        "\n",
        "# orig_shape_x = X.shape\n",
        "# orig_shape_y = y.shape\n",
        "\n",
        "# X_inter = np.reshape(X, (X.shape[0], X.shape[1]*X.shape[2]))\n",
        "# print(X_inter.shape)\n",
        "\n",
        "# oversample = SMOTE()\n",
        "# X, y_onehot = oversample.fit_resample(X_inter, y_onehot)\n",
        "\n",
        "# X = np.reshape(X, (-1, 60,9))\n",
        "\n",
        "# X = X.reshape(-1,1,SLIDING_WINDOW_LENGTH,NUM_CHANNEL)"
      ],
      "execution_count": null,
      "outputs": []
    },
    {
      "cell_type": "markdown",
      "metadata": {
        "id": "q9FXwx-ryO_4"
      },
      "source": [
        "###For Transformer Based Models"
      ]
    },
    {
      "cell_type": "code",
      "metadata": {
        "id": "fRqpsvzChJe2"
      },
      "source": [
        "#run this cell for transformer based models\n",
        "\n",
        "X_train = np.reshape(X_train, (-1, SLIDING_WINDOW_LENGTH,channels))\n",
        "\n",
        "#transformer block takes in input in shape (batch_size, seq_len, embed_dim)\n",
        "# X = X.reshape(-1,1,SLIDING_WINDOW_LENGTH,NUM_CHANNEL)"
      ],
      "execution_count": null,
      "outputs": []
    },
    {
      "cell_type": "markdown",
      "metadata": {
        "id": "X3Pj3sjjyn2L"
      },
      "source": [
        "###Random Oversampling"
      ]
    },
    {
      "cell_type": "code",
      "metadata": {
        "id": "9zkGYaC_9kMs"
      },
      "source": [
        "# orig_shape_x = X.shape\n",
        "# orig_shape_y = y.shape\n",
        "\n",
        "# X_inter = np.reshape(X, (X.shape[0], X.shape[1]*X.shape[2]))\n",
        "# print(X_inter.shape)\n",
        "\n",
        "# oversample = RandomOverSampler()\n",
        "# X, y_onehot = oversample.fit_resample(X_inter, y_onehot)\n",
        "\n",
        "# X = np.reshape(X, (-1, SLIDING_WINDOW_LENGTH,channels))\n",
        "\n",
        "# X = X.reshape(-1,1,SLIDING_WINDOW_LENGTH,NUM_CHANNEL)"
      ],
      "execution_count": null,
      "outputs": []
    },
    {
      "cell_type": "markdown",
      "metadata": {
        "id": "WF_OnbJrE8jf"
      },
      "source": [
        "###For CPU"
      ]
    },
    {
      "cell_type": "code",
      "metadata": {
        "id": "NIKnW5YGE--d"
      },
      "source": [
        "X = np.reshape(X, (-1, SLIDING_WINDOW_LENGTH,channels,1))"
      ],
      "execution_count": null,
      "outputs": []
    },
    {
      "cell_type": "code",
      "metadata": {
        "id": "OLuoQYmp99rs"
      },
      "source": [
        "print(X.shape)"
      ],
      "execution_count": null,
      "outputs": []
    },
    {
      "cell_type": "markdown",
      "metadata": {
        "id": "7VLaQbUgy4kW"
      },
      "source": [
        "###Saving Xtrain as a Numpy array\n"
      ]
    },
    {
      "cell_type": "code",
      "metadata": {
        "id": "jYwWhe_hGSTt"
      },
      "source": [
        "# #####To avoid loading data everytime, instead load using np.load\n",
        "# main_path = '/content/drive/MYDrive/MITACS_Nithin/juravinski/data/'\n",
        "# xtrain_name = 'TransformertrainX'\n",
        "# ytrain_name = 'TransformertrainY'\n",
        "# np.save(main_path + xtrain_name, X)\n",
        "# np.save(main_path + ytrain_name, y_onehot)"
      ],
      "execution_count": null,
      "outputs": []
    },
    {
      "cell_type": "markdown",
      "metadata": {
        "id": "9sM8GnRfqxxx"
      },
      "source": [
        "##Model Architecture"
      ]
    },
    {
      "cell_type": "markdown",
      "metadata": {
        "id": "wP1tBoNW1vVC"
      },
      "source": [
        "###Conv+LSTM"
      ]
    },
    {
      "cell_type": "code",
      "metadata": {
        "id": "hgzY6kP-12dw"
      },
      "source": [
        "def create_base_network(cpu=False):\n",
        "    if cpu==True:\n",
        "        multi_input = Input(shape=(SLIDING_WINDOW_LENGTH, NUM_CHANNEL,1), name='multi_input')\n",
        "        format = 'channels_last'\n",
        "    else:\n",
        "        multi_input = Input(shape=(1, SLIDING_WINDOW_LENGTH, NUM_CHANNEL), name='multi_input')\n",
        "        format = 'channels_first'\n",
        "    \n",
        "    y = Conv2D(64, (5, 1), activation='relu', data_format=format)(multi_input)\n",
        "    print(y.shape)\n",
        "    \n",
        "    \n",
        "    y = Conv2D(64, (5, 1), activation='relu', data_format=format)(y)\n",
        "    print(y.shape)\n",
        "    y = Conv2D(64, (5, 1), activation='relu', data_format=format)(y)\n",
        "    print(y.shape)\n",
        "    y = Conv2D(64, (5, 1), activation='relu', data_format=format)(y)\n",
        "    print(y.shape)\n",
        "    y = Permute((2, 1, 3))(y)\n",
        "    print(y.shape)\n",
        "    # This line is what you missed\n",
        "    # ==================================================================\n",
        "    y = Reshape((int(y.shape[1]), int(y.shape[2]) * int(y.shape[3])))(y)\n",
        "    print(y.shape)\n",
        "    # ==================================================================\n",
        "    \n",
        "    y = LSTM(128,dropout=0.25,return_sequences=True)(y)\n",
        "    print(y.shape)\n",
        "    y = LSTM(128)(y)\n",
        "    print(y.shape)\n",
        "    \n",
        "    y = Dense(NUM_CLASSES,activation = 'softmax')(y)\n",
        "    return Model(inputs=multi_input, outputs=y) "
      ],
      "execution_count": null,
      "outputs": []
    },
    {
      "cell_type": "markdown",
      "metadata": {
        "id": "UTkBlq8Q1r3D"
      },
      "source": [
        "###Conv+LSTM_Deeper\n"
      ]
    },
    {
      "cell_type": "code",
      "metadata": {
        "id": "EwsgSpjPpidL"
      },
      "source": [
        "def create_base_network_deeper(cpu=False):\n",
        "    if cpu==True:\n",
        "        multi_input = Input(shape=(SLIDING_WINDOW_LENGTH, NUM_CHANNEL,1), name='multi_input')\n",
        "        format = 'channels_last'\n",
        "    else:\n",
        "        multi_input = Input(shape=(1, SLIDING_WINDOW_LENGTH, NUM_CHANNEL), name='multi_input')\n",
        "        format = 'channels_first'\n",
        "    print(\"1\", multi_input.shape)  # (?, 1, 24, 113)\n",
        "    \n",
        "    y = Conv2D(64, (5, 1), activation='relu', data_format=format)(multi_input)\n",
        "    print(\"2\",y.shape)  # (?, 64, 20, 113)\n",
        "    \n",
        "    y = Conv2D(64, (5, 1), activation='relu', data_format=format)(y)\n",
        "    print(\"3\",y.shape)\n",
        "    y = Conv2D(64, (5, 1), activation='relu', data_format=format)(y)\n",
        "    print(\"4\",y.shape)\n",
        "    y = Conv2D(64, (5, 1), activation='relu', data_format=format)(y)\n",
        "    print(\"5\", y.shape)\n",
        "    y = Conv2D(64, (5,1), activation='relu', data_format=format)(y)\n",
        "\n",
        "    y = Conv2D(64, (5,1), activation='relu', data_format=format)(y)\n",
        "    \n",
        "    y = Permute((2, 1, 3))(y)\n",
        "    print(\"6\",y.shape)  # (?, 20, 64, 113)\n",
        "    \n",
        "    # This line is what you missed\n",
        "    # ==================================================================\n",
        "    y = Reshape((int(y.shape[1]), int(y.shape[2]) * int(y.shape[3])))(y)\n",
        "\n",
        "    # ==================================================================\n",
        "    print(\"7\",y.shape)  # (?, 20, 7232)\n",
        "    \n",
        "    y = LSTM(576,dropout=0.25,return_sequences=True)(y)\n",
        "    print(\"8\",y.shape)\n",
        "    y = LSTM(256, return_sequences=True)(y)\n",
        "    print(\"9\",y.shape)\n",
        "    y = LSTM(128, return_sequences=True)(y)\n",
        "    print(\"10\",y.shape)\n",
        "    y = LSTM(128)(y)\n",
        "    print(\"11\",y.shape)\n",
        "      # (?, 128)\n",
        "    y = Dense(64,activation = 'relu')(y)\n",
        "    print(\"12\",y.shape)\n",
        "    y = Dense(NUM_CLASSES, activation='softmax')(y)\n",
        "    print(\"13\",y.shape)\n",
        "    return Model(inputs=multi_input, outputs=y) "
      ],
      "execution_count": null,
      "outputs": []
    },
    {
      "cell_type": "markdown",
      "metadata": {
        "id": "AP7ehblgToTE"
      },
      "source": [
        "###Tensorflow Attention Code"
      ]
    },
    {
      "cell_type": "code",
      "metadata": {
        "id": "SMYeL1adTnqT"
      },
      "source": [
        "\"\"\"Attention layers that can be used in sequence DNN/CNN models.\n",
        "This file follows the terminology of https://arxiv.org/abs/1706.03762 Figure 2.\n",
        "Attention is formed by three tensors: Query, Key and Value.\n",
        "\"\"\"\n",
        "\n",
        "from tensorflow.python.framework import dtypes\n",
        "from tensorflow.python.framework import ops\n",
        "from tensorflow.python.framework import tensor_shape\n",
        "from tensorflow.python.keras import backend\n",
        "from tensorflow.python.keras.engine.base_layer import Layer\n",
        "from tensorflow.python.keras.utils import control_flow_util\n",
        "from tensorflow.python.ops import array_ops\n",
        "from tensorflow.python.ops import init_ops\n",
        "from tensorflow.python.ops import math_ops\n",
        "from tensorflow.python.ops import nn\n",
        "from tensorflow.python.util.tf_export import keras_export"
      ],
      "execution_count": null,
      "outputs": []
    },
    {
      "cell_type": "code",
      "metadata": {
        "id": "AeBbGJhXUC9V"
      },
      "source": [
        "class BaseDenseAttention(Layer):\n",
        "  \"\"\"Base Attention class for Dense networks.\n",
        "  This class is suitable for Dense or CNN networks, and not for RNN networks.\n",
        "  Implementations of attention mechanisms should inherit from this class, and\n",
        "  reuse the `apply_attention_scores()` method.\n",
        "  Args:\n",
        "    causal: Boolean. Set to `True` for decoder self-attention. Adds a mask such\n",
        "      that position `i` cannot attend to positions `j > i`. This prevents the\n",
        "      flow of information from the future towards the past.\n",
        "    dropout: Float between 0 and 1. Fraction of the units to drop for the\n",
        "      attention scores.\n",
        "  Call Args:\n",
        "    inputs: List of the following tensors:\n",
        "      * query: Query `Tensor` of shape `[batch_size, Tq, dim]`.\n",
        "      * value: Value `Tensor` of shape `[batch_size, Tv, dim]`.\n",
        "      * key: Optional key `Tensor` of shape `[batch_size, Tv, dim]`. If not\n",
        "        given, will use `value` for both `key` and `value`, which is the\n",
        "        most common case.\n",
        "    mask: List of the following tensors:\n",
        "      * query_mask: A boolean mask `Tensor` of shape `[batch_size, Tq]`.\n",
        "        If given, the output will be zero at the positions where\n",
        "        `mask==False`.\n",
        "      * value_mask: A boolean mask `Tensor` of shape `[batch_size, Tv]`.\n",
        "        If given, will apply the mask such that values at positions where\n",
        "        `mask==False` do not contribute to the result.\n",
        "    training: Python boolean indicating whether the layer should behave in\n",
        "      training mode (adding dropout) or in inference mode (no dropout).\n",
        "    return_attention_scores: bool, it `True`, returns the attention scores\n",
        "      (after masking and softmax) as an additional output argument.\n",
        "  Output:\n",
        "    Attention outputs of shape `[batch_size, Tq, dim]`.\n",
        "    [Optional] Attention scores after masking and softmax with shape\n",
        "      `[batch_size, Tq, Tv]`.\n",
        "  \"\"\"\n",
        "\n",
        "  def __init__(self, causal=False, dropout=0.0,\n",
        "               **kwargs):\n",
        "    super(BaseDenseAttention, self).__init__(**kwargs)\n",
        "    self.causal = causal\n",
        "    self.dropout = dropout\n",
        "    self.supports_masking = True\n",
        "\n",
        "  def _calculate_scores(self, query, key):\n",
        "    \"\"\"Calculates attention scores.\n",
        "    Args:\n",
        "      query: Query tensor of shape `[batch_size, Tq, dim]`.\n",
        "      key: Key tensor of shape `[batch_size, Tv, dim]`.\n",
        "    Returns:\n",
        "      Tensor of shape `[batch_size, Tq, Tv]`.\n",
        "    \"\"\"\n",
        "    return NotImplementedError\n",
        "\n",
        "  def _apply_scores(self, scores, value, scores_mask=None, training=None):\n",
        "    \"\"\"Applies attention scores to the given value tensor.\n",
        "    To use this method in your attention layer, follow the steps:\n",
        "    * Use `query` tensor of shape `[batch_size, Tq]` and `key` tensor of shape\n",
        "      `[batch_size, Tv]` to calculate the attention `scores`.\n",
        "    * Pass `scores` and `value` tensors to this method. The method applies\n",
        "      `scores_mask`, calculates `attention_distribution = softmax(scores)`, then\n",
        "      returns `matmul(attention_distribution, value).\n",
        "    * Apply `query_mask` and return the result.\n",
        "    Args:\n",
        "      scores: Scores float tensor of shape `[batch_size, Tq, Tv]`.\n",
        "      value: Value tensor of shape `[batch_size, Tv, dim]`.\n",
        "      scores_mask: A boolean mask `Tensor` of shape `[batch_size, 1, Tv]` or\n",
        "        `[batch_size, Tq, Tv]`. If given, scores at positions where\n",
        "        `scores_mask==False` do not contribute to the result. It must contain\n",
        "        at least one `True` value in each line along the last dimension.\n",
        "      training: Python boolean indicating whether the layer should behave in\n",
        "        training mode (adding dropout) or in inference mode (no dropout).\n",
        "    Returns:\n",
        "      Tensor of shape `[batch_size, Tq, dim]`.\n",
        "      Attention scores after masking and softmax with shape\n",
        "        `[batch_size, Tq, Tv]`.\n",
        "    \"\"\"\n",
        "    if scores_mask is not None:\n",
        "      padding_mask = math_ops.logical_not(scores_mask)\n",
        "      # Bias so padding positions do not contribute to attention distribution.\n",
        "      # Note 65504. is the max float16 value.\n",
        "      if scores.dtype is dtypes.float16:\n",
        "        scores -= 65504. * math_ops.cast(padding_mask, dtype=scores.dtype)\n",
        "      else:\n",
        "        scores -= 1.e9 * math_ops.cast(padding_mask, dtype=scores.dtype)\n",
        "    if training is None:\n",
        "      training = backend.learning_phase()\n",
        "    weights = nn.softmax(scores)\n",
        "\n",
        "    def dropped_weights():\n",
        "      return nn.dropout(weights, rate=self.dropout)\n",
        "\n",
        "    weights = control_flow_util.smart_cond(training, dropped_weights,\n",
        "                                           lambda: array_ops.identity(weights))\n",
        "    return math_ops.matmul(weights, value), weights\n",
        "\n",
        "  # TODO(b/125916026): Consider exposing a __call__ method with named args.\n",
        "  def call(self,\n",
        "           inputs,\n",
        "           mask=None,\n",
        "           training=None,\n",
        "           return_attention_scores=False):\n",
        "    self._validate_call_args(inputs=inputs, mask=mask)\n",
        "    q = inputs[0]\n",
        "    v = inputs[1]\n",
        "    k = inputs[2] if len(inputs) > 2 else v\n",
        "    q_mask = mask[0] if mask else None\n",
        "    v_mask = mask[1] if mask else None\n",
        "    scores = self._calculate_scores(query=q, key=k)\n",
        "    if v_mask is not None:\n",
        "      # Mask of shape [batch_size, 1, Tv].\n",
        "      v_mask = array_ops.expand_dims(v_mask, axis=-2)\n",
        "    if self.causal:\n",
        "      # Creates a lower triangular mask, so position i cannot attend to\n",
        "      # positions j>i. This prevents the flow of information from the future\n",
        "      # into the past.\n",
        "      scores_shape = array_ops.shape(scores)\n",
        "      # causal_mask_shape = [1, Tq, Tv].\n",
        "      causal_mask_shape = array_ops.concat(\n",
        "          [array_ops.ones_like(scores_shape[:-2]), scores_shape[-2:]],\n",
        "          axis=0)\n",
        "      causal_mask = _lower_triangular_mask(causal_mask_shape)\n",
        "    else:\n",
        "      causal_mask = None\n",
        "    scores_mask = _merge_masks(v_mask, causal_mask)\n",
        "    result, attention_scores = self._apply_scores(\n",
        "        scores=scores, value=v, scores_mask=scores_mask, training=training)\n",
        "    if q_mask is not None:\n",
        "      # Mask of shape [batch_size, Tq, 1].\n",
        "      q_mask = array_ops.expand_dims(q_mask, axis=-1)\n",
        "      result *= math_ops.cast(q_mask, dtype=result.dtype)\n",
        "    if return_attention_scores:\n",
        "      return result, attention_scores\n",
        "    return result\n",
        "\n",
        "  def compute_mask(self, inputs, mask=None):\n",
        "    self._validate_call_args(inputs=inputs, mask=mask)\n",
        "    if mask:\n",
        "      q_mask = mask[0]\n",
        "      if q_mask is None:\n",
        "        return None\n",
        "      return ops.convert_to_tensor_v2_with_dispatch(q_mask)\n",
        "    return None\n",
        "\n",
        "  def _validate_call_args(self, inputs, mask):\n",
        "    \"\"\"Validates arguments of the call method.\"\"\"\n",
        "    class_name = self.__class__.__name__\n",
        "    if not isinstance(inputs, list):\n",
        "      raise ValueError(\n",
        "          '{} layer must be called on a list of inputs, namely [query, value] '\n",
        "          'or [query, value, key].'.format(class_name))\n",
        "    if len(inputs) < 2 or len(inputs) > 3:\n",
        "      raise ValueError(\n",
        "          '{} layer accepts inputs list of length 2 or 3, '\n",
        "          'namely [query, value] or [query, value, key]. '\n",
        "          'Given length: {}'.format(class_name, len(inputs)))\n",
        "    if mask:\n",
        "      if not isinstance(mask, list):\n",
        "        raise ValueError(\n",
        "            '{} layer mask must be a list, '\n",
        "            'namely [query_mask, value_mask].'.format(class_name))\n",
        "      if len(mask) < 2 or len(mask) > len(inputs):\n",
        "        raise ValueError(\n",
        "            '{} layer mask must be a list of length 2, namely [query_mask, '\n",
        "            'value_mask]. Given length: {}'.format(class_name, len(mask)))\n",
        "\n",
        "  def get_config(self):\n",
        "    config = {\n",
        "        'causal': self.causal,\n",
        "        'dropout': self.dropout,\n",
        "    }\n",
        "    base_config = super(BaseDenseAttention, self).get_config()\n",
        "    return dict(list(base_config.items()) + list(config.items()))"
      ],
      "execution_count": null,
      "outputs": []
    },
    {
      "cell_type": "code",
      "metadata": {
        "id": "kV_OXtWAUHGn"
      },
      "source": [
        "\n",
        "@keras_export('keras.layers.Attention')\n",
        "class Attention(BaseDenseAttention):\n",
        "  \"\"\"Dot-product attention layer, a.k.a. Luong-style attention.\n",
        "  Inputs are `query` tensor of shape `[batch_size, Tq, dim]`, `value` tensor of\n",
        "  shape `[batch_size, Tv, dim]` and `key` tensor of shape\n",
        "  `[batch_size, Tv, dim]`. The calculation follows the steps:\n",
        "  1. Calculate scores with shape `[batch_size, Tq, Tv]` as a `query`-`key` dot\n",
        "     product: `scores = tf.matmul(query, key, transpose_b=True)`.\n",
        "  2. Use scores to calculate a distribution with shape\n",
        "     `[batch_size, Tq, Tv]`: `distribution = tf.nn.softmax(scores)`.\n",
        "  3. Use `distribution` to create a linear combination of `value` with\n",
        "     shape `[batch_size, Tq, dim]`:\n",
        "     `return tf.matmul(distribution, value)`.\n",
        "  Args:\n",
        "    use_scale: If `True`, will create a scalar variable to scale the attention\n",
        "      scores.\n",
        "    causal: Boolean. Set to `True` for decoder self-attention. Adds a mask such\n",
        "      that position `i` cannot attend to positions `j > i`. This prevents the\n",
        "      flow of information from the future towards the past.\n",
        "    dropout: Float between 0 and 1. Fraction of the units to drop for the\n",
        "      attention scores.\n",
        "  Call Args:\n",
        "    inputs: List of the following tensors:\n",
        "      * query: Query `Tensor` of shape `[batch_size, Tq, dim]`.\n",
        "      * value: Value `Tensor` of shape `[batch_size, Tv, dim]`.\n",
        "      * key: Optional key `Tensor` of shape `[batch_size, Tv, dim]`. If not\n",
        "        given, will use `value` for both `key` and `value`, which is the\n",
        "        most common case.\n",
        "    mask: List of the following tensors:\n",
        "      * query_mask: A boolean mask `Tensor` of shape `[batch_size, Tq]`.\n",
        "        If given, the output will be zero at the positions where\n",
        "        `mask==False`.\n",
        "      * value_mask: A boolean mask `Tensor` of shape `[batch_size, Tv]`.\n",
        "        If given, will apply the mask such that values at positions where\n",
        "        `mask==False` do not contribute to the result.\n",
        "    return_attention_scores: bool, it `True`, returns the attention scores\n",
        "      (after masking and softmax) as an additional output argument.\n",
        "    training: Python boolean indicating whether the layer should behave in\n",
        "      training mode (adding dropout) or in inference mode (no dropout).\n",
        "  Output:\n",
        "    Attention outputs of shape `[batch_size, Tq, dim]`.\n",
        "    [Optional] Attention scores after masking and softmax with shape\n",
        "      `[batch_size, Tq, Tv]`.\n",
        "  The meaning of `query`, `value` and `key` depend on the application. In the\n",
        "  case of text similarity, for example, `query` is the sequence embeddings of\n",
        "  the first piece of text and `value` is the sequence embeddings of the second\n",
        "  piece of text. `key` is usually the same tensor as `value`.\n",
        "  Here is a code example for using `Attention` in a CNN+Attention network:\n",
        "  ```python\n",
        "  # Variable-length int sequences.\n",
        "  query_input = tf.keras.Input(shape=(None,), dtype='int32')\n",
        "  value_input = tf.keras.Input(shape=(None,), dtype='int32')\n",
        "  # Embedding lookup.\n",
        "  token_embedding = tf.keras.layers.Embedding(input_dim=1000, output_dim=64)\n",
        "  # Query embeddings of shape [batch_size, Tq, dimension].\n",
        "  query_embeddings = token_embedding(query_input)\n",
        "  # Value embeddings of shape [batch_size, Tv, dimension].\n",
        "  value_embeddings = token_embedding(value_input)\n",
        "  # CNN layer.\n",
        "  cnn_layer = tf.keras.layers.Conv1D(\n",
        "      filters=100,\n",
        "      kernel_size=4,\n",
        "      # Use 'same' padding so outputs have the same shape as inputs.\n",
        "      padding='same')\n",
        "  # Query encoding of shape [batch_size, Tq, filters].\n",
        "  query_seq_encoding = cnn_layer(query_embeddings)\n",
        "  # Value encoding of shape [batch_size, Tv, filters].\n",
        "  value_seq_encoding = cnn_layer(value_embeddings)\n",
        "  # Query-value attention of shape [batch_size, Tq, filters].\n",
        "  query_value_attention_seq = tf.keras.layers.Attention()(\n",
        "      [query_seq_encoding, value_seq_encoding])\n",
        "  # Reduce over the sequence axis to produce encodings of shape\n",
        "  # [batch_size, filters].\n",
        "  query_encoding = tf.keras.layers.GlobalAveragePooling1D()(\n",
        "      query_seq_encoding)\n",
        "  query_value_attention = tf.keras.layers.GlobalAveragePooling1D()(\n",
        "      query_value_attention_seq)\n",
        "  # Concatenate query and document encodings to produce a DNN input layer.\n",
        "  input_layer = tf.keras.layers.Concatenate()(\n",
        "      [query_encoding, query_value_attention])\n",
        "  # Add DNN layers, and create Model.\n",
        "  # ...\n",
        "  ```\n",
        "  \"\"\"\n",
        "\n",
        "  def __init__(self, use_scale=False, **kwargs):\n",
        "    super(Attention, self).__init__(**kwargs)\n",
        "    self.use_scale = use_scale\n",
        "\n",
        "  def build(self, input_shape):\n",
        "    \"\"\"Creates scale variable if use_scale==True.\"\"\"\n",
        "    if self.use_scale:\n",
        "      self.scale = self.add_weight(\n",
        "          name='scale',\n",
        "          shape=(),\n",
        "          initializer=init_ops.ones_initializer(),\n",
        "          dtype=self.dtype,\n",
        "          trainable=True)\n",
        "    else:\n",
        "      self.scale = None\n",
        "    super(Attention, self).build(input_shape)\n",
        "\n",
        "  def _calculate_scores(self, query, key):\n",
        "    \"\"\"Calculates attention scores as a query-key dot product.\n",
        "    Args:\n",
        "      query: Query tensor of shape `[batch_size, Tq, dim]`.\n",
        "      key: Key tensor of shape `[batch_size, Tv, dim]`.\n",
        "    Returns:\n",
        "      Tensor of shape `[batch_size, Tq, Tv]`.\n",
        "    \"\"\"\n",
        "    scores = math_ops.matmul(query, key, transpose_b=True)\n",
        "    if self.scale is not None:\n",
        "      scores *= self.scale\n",
        "    return scores\n",
        "\n",
        "  def get_config(self):\n",
        "    config = {'use_scale': self.use_scale}\n",
        "    base_config = super(Attention, self).get_config()\n",
        "    return dict(list(base_config.items()) + list(config.items()))\n"
      ],
      "execution_count": null,
      "outputs": []
    },
    {
      "cell_type": "code",
      "metadata": {
        "id": "1GukA8cpUKo2"
      },
      "source": [
        "@keras_export('keras.layers.AdditiveAttention')\n",
        "class AdditiveAttention(BaseDenseAttention):\n",
        "  \"\"\"Additive attention layer, a.k.a. Bahdanau-style attention.\n",
        "  Inputs are `query` tensor of shape `[batch_size, Tq, dim]`, `value` tensor of\n",
        "  shape `[batch_size, Tv, dim]` and `key` tensor of shape\n",
        "  `[batch_size, Tv, dim]`. The calculation follows the steps:\n",
        "  1. Reshape `query` and `value` into shapes `[batch_size, Tq, 1, dim]`\n",
        "     and `[batch_size, 1, Tv, dim]` respectively.\n",
        "  2. Calculate scores with shape `[batch_size, Tq, Tv]` as a non-linear\n",
        "     sum: `scores = tf.reduce_sum(tf.tanh(query + value), axis=-1)`\n",
        "  3. Use scores to calculate a distribution with shape\n",
        "     `[batch_size, Tq, Tv]`: `distribution = tf.nn.softmax(scores)`.\n",
        "  4. Use `distribution` to create a linear combination of `value` with\n",
        "     shape `[batch_size, Tq, dim]`:\n",
        "     `return tf.matmul(distribution, value)`.\n",
        "  Args:\n",
        "    use_scale: If `True`, will create a variable to scale the attention scores.\n",
        "    causal: Boolean. Set to `True` for decoder self-attention. Adds a mask such\n",
        "      that position `i` cannot attend to positions `j > i`. This prevents the\n",
        "      flow of information from the future towards the past.\n",
        "    dropout: Float between 0 and 1. Fraction of the units to drop for the\n",
        "      attention scores.\n",
        "  Call Args:\n",
        "    inputs: List of the following tensors:\n",
        "      * query: Query `Tensor` of shape `[batch_size, Tq, dim]`.\n",
        "      * value: Value `Tensor` of shape `[batch_size, Tv, dim]`.\n",
        "      * key: Optional key `Tensor` of shape `[batch_size, Tv, dim]`. If not\n",
        "        given, will use `value` for both `key` and `value`, which is the\n",
        "        most common case.\n",
        "    mask: List of the following tensors:\n",
        "      * query_mask: A boolean mask `Tensor` of shape `[batch_size, Tq]`.\n",
        "        If given, the output will be zero at the positions where\n",
        "        `mask==False`.\n",
        "      * value_mask: A boolean mask `Tensor` of shape `[batch_size, Tv]`.\n",
        "        If given, will apply the mask such that values at positions where\n",
        "        `mask==False` do not contribute to the result.\n",
        "    training: Python boolean indicating whether the layer should behave in\n",
        "      training mode (adding dropout) or in inference mode (no dropout).\n",
        "    return_attention_scores: bool, it `True`, returns the attention scores\n",
        "      (after masking and softmax) as an additional output argument.\n",
        "  Output:\n",
        "    Attention outputs of shape `[batch_size, Tq, dim]`.\n",
        "    [Optional] Attention scores after masking and softmax with shape\n",
        "      `[batch_size, Tq, Tv]`.\n",
        "  The meaning of `query`, `value` and `key` depend on the application. In the\n",
        "  case of text similarity, for example, `query` is the sequence embeddings of\n",
        "  the first piece of text and `value` is the sequence embeddings of the second\n",
        "  piece of text. `key` is usually the same tensor as `value`.\n",
        "  Here is a code example for using `AdditiveAttention` in a CNN+Attention\n",
        "  network:\n",
        "  ```python\n",
        "  # Variable-length int sequences.\n",
        "  query_input = tf.keras.Input(shape=(None,), dtype='int32')\n",
        "  value_input = tf.keras.Input(shape=(None,), dtype='int32')\n",
        "  # Embedding lookup.\n",
        "  token_embedding = tf.keras.layers.Embedding(max_tokens, dimension)\n",
        "  # Query embeddings of shape [batch_size, Tq, dimension].\n",
        "  query_embeddings = token_embedding(query_input)\n",
        "  # Value embeddings of shape [batch_size, Tv, dimension].\n",
        "  value_embeddings = token_embedding(value_input)\n",
        "  # CNN layer.\n",
        "  cnn_layer = tf.keras.layers.Conv1D(\n",
        "      filters=100,\n",
        "      kernel_size=4,\n",
        "      # Use 'same' padding so outputs have the same shape as inputs.\n",
        "      padding='same')\n",
        "  # Query encoding of shape [batch_size, Tq, filters].\n",
        "  query_seq_encoding = cnn_layer(query_embeddings)\n",
        "  # Value encoding of shape [batch_size, Tv, filters].\n",
        "  value_seq_encoding = cnn_layer(value_embeddings)\n",
        "  # Query-value attention of shape [batch_size, Tq, filters].\n",
        "  query_value_attention_seq = tf.keras.layers.AdditiveAttention()(\n",
        "      [query_seq_encoding, value_seq_encoding])\n",
        "  # Reduce over the sequence axis to produce encodings of shape\n",
        "  # [batch_size, filters].\n",
        "  query_encoding = tf.keras.layers.GlobalAveragePooling1D()(\n",
        "      query_seq_encoding)\n",
        "  query_value_attention = tf.keras.layers.GlobalAveragePooling1D()(\n",
        "      query_value_attention_seq)\n",
        "  # Concatenate query and document encodings to produce a DNN input layer.\n",
        "  input_layer = tf.keras.layers.Concatenate()(\n",
        "      [query_encoding, query_value_attention])\n",
        "  # Add DNN layers, and create Model.\n",
        "  # ...\n",
        "  ```\n",
        "  \"\"\"\n",
        "\n",
        "  def __init__(self, use_scale=True, **kwargs):\n",
        "    super(AdditiveAttention, self).__init__(**kwargs)\n",
        "    self.use_scale = use_scale\n",
        "\n",
        "  def build(self, input_shape):\n",
        "    v_shape = tensor_shape.TensorShape(input_shape[1])\n",
        "    dim = v_shape[-1]\n",
        "    if isinstance(dim, tensor_shape.Dimension):\n",
        "      dim = dim.value\n",
        "    if self.use_scale:\n",
        "      self.scale = self.add_weight(\n",
        "          name='scale',\n",
        "          shape=[dim],\n",
        "          initializer=init_ops.glorot_uniform_initializer(),\n",
        "          dtype=self.dtype,\n",
        "          trainable=True)\n",
        "    else:\n",
        "      self.scale = None\n",
        "    super(AdditiveAttention, self).build(input_shape)\n",
        "\n",
        "  def _calculate_scores(self, query, key):\n",
        "    \"\"\"Calculates attention scores as a nonlinear sum of query and key.\n",
        "    Args:\n",
        "      query: Query tensor of shape `[batch_size, Tq, dim]`.\n",
        "      key: Key tensor of shape `[batch_size, Tv, dim]`.\n",
        "    Returns:\n",
        "      Tensor of shape `[batch_size, Tq, Tv]`.\n",
        "    \"\"\"\n",
        "    # Reshape tensors to enable broadcasting.\n",
        "    # Reshape into [batch_size, Tq, 1, dim].\n",
        "    q_reshaped = array_ops.expand_dims(query, axis=-2)\n",
        "    # Reshape into [batch_size, 1, Tv, dim].\n",
        "    k_reshaped = array_ops.expand_dims(key, axis=-3)\n",
        "    if self.use_scale:\n",
        "      scale = self.scale\n",
        "    else:\n",
        "      scale = 1.\n",
        "    return math_ops.reduce_sum(\n",
        "        scale * math_ops.tanh(q_reshaped + k_reshaped), axis=-1)\n",
        "\n",
        "  def get_config(self):\n",
        "    config = {'use_scale': self.use_scale}\n",
        "    base_config = super(AdditiveAttention, self).get_config()\n",
        "    return dict(list(base_config.items()) + list(config.items()))\n",
        "\n",
        "\n",
        "def _lower_triangular_mask(shape):\n",
        "  \"\"\"Creates a lower-triangular boolean mask over the last 2 dimensions.\"\"\"\n",
        "  row_index = math_ops.cumsum(\n",
        "      array_ops.ones(shape=shape, dtype=dtypes.int32), axis=-2)\n",
        "  col_index = math_ops.cumsum(\n",
        "      array_ops.ones(shape=shape, dtype=dtypes.int32), axis=-1)\n",
        "  return math_ops.greater_equal(row_index, col_index)\n",
        "\n",
        "\n",
        "def _merge_masks(x, y):\n",
        "  if x is None:\n",
        "    return y\n",
        "  if y is None:\n",
        "    return x\n",
        "  return math_ops.logical_and(x, y)"
      ],
      "execution_count": null,
      "outputs": []
    },
    {
      "cell_type": "markdown",
      "metadata": {
        "id": "TyCCafpn7DHt"
      },
      "source": [
        "###Conv+Att+LSTM"
      ]
    },
    {
      "cell_type": "code",
      "metadata": {
        "id": "QH4VaKiW7Ks8"
      },
      "source": [
        "def Conv_Att_LSTM(cpu=False, attention = \"Luong\", dropout = 0.2):  #specify type of attention as a param\n",
        "    if cpu==True:\n",
        "        multi_input = Input(shape=(SLIDING_WINDOW_LENGTH, NUM_CHANNEL,1), name='multi_input')\n",
        "        format = 'channels_last'\n",
        "    else:\n",
        "        multi_input = Input(shape=(1, SLIDING_WINDOW_LENGTH, NUM_CHANNEL), name='multi_input')\n",
        "        format = 'channels_first'\n",
        "\n",
        "    \n",
        "    print(\"Input: \", multi_input.shape)\n",
        "    \n",
        "    y = Conv2D(64, (5, 1), activation='relu', data_format=format)(multi_input)\n",
        "    print(\"1: \", y.shape)\n",
        "    \n",
        "    y = Conv2D(64, (5, 1), activation='relu', data_format=format)(y)\n",
        "    print(\"2: \", y.shape)\n",
        "\n",
        "    y = Conv2D(64, (5, 1), activation='relu', data_format=format)(y)\n",
        "    print(\"3: \", y.shape)\n",
        "\n",
        "    y = Conv2D(64, (5, 1), activation='relu', data_format=format)(y)\n",
        "    print(\"4: \", y.shape)\n",
        "\n",
        "    y = Permute((2, 1, 3))(y)\n",
        "    print(\"5: \", y.shape)\n",
        "\n",
        "    y = Reshape((int(y.shape[1]), int(y.shape[2]) * int(y.shape[3])))(y)\n",
        "    print(\"6: \", y.shape)\n",
        "\n",
        "    #adding attention layer, type of attention specified above\n",
        "\n",
        "    if attention == \"Luong\":\n",
        "        attention1 = Attention(dropout = dropout)\n",
        "        attention2 = Attention(dropout = dropout)\n",
        "    # elif attention == 'MultiHead':\n",
        "    #     attention1 = MultiHeadAttention(num_heads=4, key_dim = int(y.shape[2]))\n",
        "    #     attention2 = MultiHeadAttention(num_heads=4, key_dim = int(y.shape[2]))\n",
        "\n",
        "    query_encoding1 = Dense(300, activation = 'relu')(y)\n",
        "\n",
        "    value_encoding1 = Dense(300, activation = 'relu')(y)\n",
        "\n",
        "    # print(\"Query1\", query1.shape)\n",
        "\n",
        "    y = attention1([query_encoding1,value_encoding1]) #attention layer - more like self attention but used along with conv and lstm\n",
        "    \n",
        "    # print(\"attention1\", y.shape)\n",
        "\n",
        "    # print(\"Between\", y.shape)\n",
        "    \n",
        "    y = LSTM(128,dropout=0.25,return_sequences=True)(y)\n",
        "\n",
        "    # print(\"7: \", y.shape)\n",
        "\n",
        "    query_encoding2 = Dense(int(y.shape[2]), activation = 'relu')(y)\n",
        "\n",
        "    value_encoding2 = Dense(int(y.shape[2]), activation = 'relu')(y)\n",
        "\n",
        "    # print(\"Query2\", query2.shape)\n",
        "\n",
        "    y = attention2([query_encoding2,value_encoding2])\n",
        "    # print(\"attention2\", y.shape)\n",
        "\n",
        "    y = LSTM(128)(y)\n",
        "\n",
        "    # y = attention([y,y])\n",
        "\n",
        "    # print(\"8: \", y.shape)\n",
        "    \n",
        "    y = Dense(NUM_CLASSES,activation = 'softmax')(y)\n",
        "    # print(\"9: \", y.shape)\n",
        "    return Model(inputs=multi_input, outputs=y) "
      ],
      "execution_count": null,
      "outputs": []
    },
    {
      "cell_type": "code",
      "metadata": {
        "id": "Ra45oibIPZxR"
      },
      "source": [
        "#params\n",
        "embed_dim = 9\n",
        "seq_size = 60\n",
        "num_heads = 3\n",
        "ff_dim = 27\n",
        "dropout = 0.1\n",
        "maxlen = 60"
      ],
      "execution_count": null,
      "outputs": []
    },
    {
      "cell_type": "markdown",
      "metadata": {
        "id": "iqty048LOeaa"
      },
      "source": [
        "##Model Creation"
      ]
    },
    {
      "cell_type": "code",
      "metadata": {
        "id": "B3kihYEhpm04"
      },
      "source": [
        "basemodel = create_base_network()\n",
        "adam_optim = Adam(learning_rate=0.0001, beta_1=0.9, beta_2=0.999)\n",
        "basemodel.compile(loss='binary_crossentropy', optimizer=adam_optim,metrics=['accuracy'])"
      ],
      "execution_count": null,
      "outputs": []
    },
    {
      "cell_type": "code",
      "metadata": {
        "id": "yIC8WTe29As3"
      },
      "source": [
        "bahdanau = Conv_Att_LSTM(attention=\"Bahdanau\")\n",
        "adam_optim = Adam(learning_rate=0.0001, beta_1=0.9, beta_2=0.999)\n",
        "bahdanau.compile(loss='binary_crossentropy', optimizer=adam_optim,metrics=['accuracy'])\n",
        "bahdanau.summary()"
      ],
      "execution_count": null,
      "outputs": []
    },
    {
      "cell_type": "code",
      "metadata": {
        "id": "VQggOdZm9A02"
      },
      "source": [
        "luong = Conv_Att_LSTM(attention=\"Luong\")\n",
        "adam_optim = Adam(learning_rate=0.0001, beta_1=0.9, beta_2=0.999)\n",
        "luong.compile(loss='binary_crossentropy', optimizer=adam_optim,metrics=['accuracy'])\n",
        "luong.summary()"
      ],
      "execution_count": null,
      "outputs": []
    },
    {
      "cell_type": "code",
      "metadata": {
        "id": "A0XV94LSe5JZ"
      },
      "source": [
        "multihead = Conv_Att_LSTM(attention=\"MultiHead\")\n",
        "adam_optim = Adam(learning_rate=0.0001, beta_1=0.9, beta_2=0.999)\n",
        "multihead.compile(loss='binary_crossentropy', optimizer=adam_optim,metrics=['accuracy'])"
      ],
      "execution_count": null,
      "outputs": []
    },
    {
      "cell_type": "code",
      "metadata": {
        "id": "i9uPMh-ua989"
      },
      "source": [
        "deepermodel = create_base_network_deeper()\n",
        "adam_optim = Adam(learning_rate=0.001, beta_1=0.9, beta_2=0.999)\n",
        "deepermodel.compile(loss='binary_crossentropy', optimizer=adam_optim, metrics=['accuracy'])"
      ],
      "execution_count": null,
      "outputs": []
    },
    {
      "cell_type": "code",
      "metadata": {
        "id": "BWViAOHIfHaT"
      },
      "source": [
        "transformermodel = TransformerModel()\n",
        "adam_optim = adam_optim = Adam(learning_rate=0.001, beta_1=0.9, beta_2=0.999)\n",
        "transformermodel.compile(loss='binary_crossentropy', optimizer=adam_optim, metrics=['accuracy'])"
      ],
      "execution_count": null,
      "outputs": []
    },
    {
      "cell_type": "code",
      "metadata": {
        "id": "DYweM91Ro7LN"
      },
      "source": [
        "transformermodelwpe = TransformerModelwithPositionalEmbedding()\n",
        "adam_optim = adam_optim = Adam(lr=0.001, beta_1=0.9, beta_2=0.999)\n",
        "transformermodelwpe.compile(loss='binary_crossentropy', optimizer=adam_optim, metrics=['accuracy'])"
      ],
      "execution_count": null,
      "outputs": []
    },
    {
      "cell_type": "code",
      "metadata": {
        "id": "3P17td1asXsK"
      },
      "source": [
        "convtransformer = conv_transformer_ffn()\n",
        "adam_optim = Adam(learning_rate=0.0001, beta_1=0.9, beta_2=0.999)\n",
        "convtransformer.compile(loss='binary_crossentropy', optimizer=adam_optim,metrics=['accuracy'])"
      ],
      "execution_count": null,
      "outputs": []
    },
    {
      "cell_type": "markdown",
      "metadata": {
        "id": "qiLgwRsd1-rs"
      },
      "source": [
        "##Model Training"
      ]
    },
    {
      "cell_type": "code",
      "metadata": {
        "id": "KCzPVQoitVuD"
      },
      "source": [
        "callback = tf.keras.callbacks.EarlyStopping(monitor='val_loss', patience=5)"
      ],
      "execution_count": null,
      "outputs": []
    },
    {
      "cell_type": "code",
      "metadata": {
        "id": "y7QmanOxqANS"
      },
      "source": [
        "history1 = basemodel.fit(X_train, y_onehot_train,\n",
        "      batch_size=BATCH_SIZE,\n",
        "      epochs=100,\n",
        "      validation_split=0.2,\n",
        "    #   callbacks=[callback],\n",
        "      shuffle=True)"
      ],
      "execution_count": null,
      "outputs": []
    },
    {
      "cell_type": "code",
      "metadata": {
        "id": "crUWXY-9bmc_"
      },
      "source": [
        "history2 = deepermodel.fit(X_train, y_onehot_train,\n",
        "      batch_size=BATCH_SIZE,\n",
        "      epochs=1,\n",
        "      validation_split=0.2,\n",
        "        #callbacks=[callback],\n",
        "      shuffle=True)"
      ],
      "execution_count": null,
      "outputs": []
    },
    {
      "cell_type": "code",
      "metadata": {
        "id": "FWfIyRrJpxGZ"
      },
      "source": [
        "history3 = transformermodel.fit(X_train, y_onehot_train,\n",
        "      batch_size=BATCH_SIZE,\n",
        "      epochs=100,\n",
        "      validation_split=0.2,\n",
        "    #   callbacks=[callback],\n",
        "      shuffle=True)"
      ],
      "execution_count": null,
      "outputs": []
    },
    {
      "cell_type": "code",
      "metadata": {
        "id": "9PKSFeXHpV1V"
      },
      "source": [
        "history4 = transformermodelwpe.fit(X_train, y_onehot_train,\n",
        "      batch_size=BATCH_SIZE,\n",
        "      epochs=100,\n",
        "      validation_split=0.2,\n",
        "    #   callbacks=[callback],\n",
        "      shuffle=True)"
      ],
      "execution_count": null,
      "outputs": []
    },
    {
      "cell_type": "code",
      "metadata": {
        "id": "H-KjhSPPf5nD"
      },
      "source": [
        "history5 = bahdanau.fit(X_train, y_onehot_train,\n",
        "      batch_size=BATCH_SIZE,\n",
        "      epochs=100,\n",
        "      validation_split=0.2,\n",
        "    #   callbacks=[callback],\n",
        "      shuffle=True)"
      ],
      "execution_count": null,
      "outputs": []
    },
    {
      "cell_type": "code",
      "metadata": {
        "id": "bAig2r4PgAir"
      },
      "source": [
        "history6 = luong.fit(X_train, y_onehot_train,\n",
        "      batch_size=BATCH_SIZE,\n",
        "      epochs=100,\n",
        "      validation_split=0.2,\n",
        "    #   callbacks=[callback],\n",
        "      shuffle=True)"
      ],
      "execution_count": null,
      "outputs": []
    },
    {
      "cell_type": "code",
      "metadata": {
        "id": "_qPwJaoFTnr6"
      },
      "source": [
        "history7 = convtransformer.fit(X_train, y_onehot_train,\n",
        "      batch_size=BATCH_SIZE,\n",
        "      epochs=100,\n",
        "      validation_split=0.2,\n",
        "    #   callbacks=[callback],\n",
        "      shuffle=True)"
      ],
      "execution_count": null,
      "outputs": []
    },
    {
      "cell_type": "markdown",
      "metadata": {
        "id": "4JtVD-lloVnv"
      },
      "source": [
        "###Subject Wise Testing"
      ]
    },
    {
      "cell_type": "code",
      "metadata": {
        "id": "VpBxuu3FoYMK"
      },
      "source": [
        "predy = basemodel.predict(X_test)\n",
        "y_hat = lb.inverse_transform(predy)\n",
        "acc = eval_perf(y_hat,y_test)"
      ],
      "execution_count": null,
      "outputs": []
    },
    {
      "cell_type": "markdown",
      "metadata": {
        "id": "cqrm0i9U2BYu"
      },
      "source": [
        "##Saving Model and Plotting"
      ]
    },
    {
      "cell_type": "code",
      "metadata": {
        "id": "25lDUx-WqCuv",
        "colab": {
          "base_uri": "https://localhost:8080/",
          "height": 312
        },
        "outputId": "47ffbc4a-229c-48fe-f9ea-c52e5dbbe179"
      },
      "source": [
        "# =============================================================================\n",
        "# save training history plot and trained model\n",
        "# =============================================================================\n",
        "# summarize history for loss\n",
        "plt.plot(history6.history['loss'])\n",
        "plt.plot(history6.history['val_loss'])\n",
        "plt.title('model loss')\n",
        "plt.ylabel('loss')\n",
        "plt.xlabel('epoch')\n",
        "plt.legend(['train', 'validation'], loc='upper left')\n",
        "\n",
        "# plt.plot(history6.history['loss'])\n",
        "# plt.plot(history6.history['val_loss'])\n",
        "# plt.title('model loss')\n",
        "# plt.ylabel('loss')\n",
        "# plt.xlabel('epoch')\n",
        "# plt.legend(['train', 'validation'], loc='upper left')\n",
        "\n",
        "modelname1 = 'convlstm_second_random'\n",
        "modelname2 = 'luong2_random'\n",
        "plt.savefig('/content/drive/MyDrive/MITACS_Nithin/juravinski/models_figs/all3_'+modelname1+'_retrained.png')\n",
        "\n",
        "# serialize model to JSON\n",
        "model_json = basemodel.to_json()\n",
        "with open(\"/content/drive/MyDrive/MITACS_Nithin/juravinski/models_figs/4act_all3_\"+modelname1+\"_retrained.json\", \"w\") as json_file:\n",
        "    json_file.write(model_json)\n",
        "# serialize weights to HDF5\n",
        "basemodel.save_weights(\"/content/drive/MyDrive/MITACS_Nithin/juravinski/models_figs/4act_all3_\"+modelname1+\"_retrained.h5\")\n",
        "print(\"Saved model to disk\")\n",
        "\n",
        "\n",
        "\n",
        "# plt.savefig('/content/drive/MyDrive/MITACS_Nithin/juravinski/models_figs/all3_'+modelname2+'_retrained.png')\n",
        "\n",
        "# # serialize model to JSON\n",
        "# model_json = luong.to_json()\n",
        "# with open(\"/content/drive/MyDrive/MITACS_Nithin/juravinski/models_figs/4act_all3_\"+modelname2+\"_retrained.json\", \"w\") as json_file:\n",
        "#     json_file.write(model_json)\n",
        "# # serialize weights to HDF5\n",
        "# luong.save_weights(\"/content/drive/MyDrive/MITACS_Nithin/juravinski/models_figs/4act_all3_\"+modelname2+\"_retrained.h5\")\n",
        "# print(\"Saved model to disk\")\n",
        "\n",
        "# model2_json = model2.to_json()\n",
        "# with open(\"/content/drive/MyDrive/MITACS_Nithin/juravinski/models_figs/4act_all3sensorsdeeper.json\", \"w\") as json_file:\n",
        "#     json_file.write(model_json)\n",
        "# # serialize weights to HDF5\n",
        "# model.save_weights(\"/content/drive/MyDrive/MITACS_Nithin/juravinski/models_figs/4act_all3sensorsdeeper.h5\")\n",
        "# print(\"Saved model to disk\")"
      ],
      "execution_count": null,
      "outputs": [
        {
          "output_type": "stream",
          "text": [
            "Saved model to disk\n"
          ],
          "name": "stdout"
        },
        {
          "output_type": "display_data",
          "data": {
            "image/png": "[encoded data removed]",
            "text/plain": [
              "<Figure size 432x288 with 1 Axes>"
            ]
          },
          "metadata": {
            "tags": [],
            "needs_background": "light"
          }
        }
      ]
    },
    {
      "cell_type": "markdown",
      "metadata": {
        "id": "fkm9q2ha2JDX"
      },
      "source": [
        "##Evaluation"
      ]
    },
    {
      "cell_type": "code",
      "metadata": {
        "id": "64c24fs3dfwK"
      },
      "source": [
        "def eval_perf(ground_truth, predicted_event):\n",
        "    print('Accuracy score is: ')\n",
        "    acc = accuracy_score(ground_truth, predicted_event)\n",
        "    print(acc)\n",
        "    print('Confusion Matrix is:')\n",
        "    my_matrix = confusion_matrix(ground_truth, predicted_event)\n",
        "    my_matrix_n = normalize(my_matrix, axis=1,norm = 'l1')\n",
        "    print(pd.DataFrame(my_matrix_n).applymap(lambda x: '{:.2%}'.format(x)).values)\n",
        "\n",
        "    #target_names = ['Walking','Jogging','Stairs','Sitting','Standing']\n",
        "    target_names = ['Lying', 'Sitting', 'Standing', 'Walking']\n",
        "    df_cm = pd.DataFrame(my_matrix_n, index = [i for i in target_names],\n",
        "                  columns = [i for i in target_names])\n",
        "    plt.figure(figsize = (10,7))\n",
        "    sn.heatmap(df_cm, annot=True)\n",
        "    print(classification_report(ground_truth, predicted_event, target_names=target_names))  \n",
        "    return acc"
      ],
      "execution_count": null,
      "outputs": []
    },
    {
      "cell_type": "markdown",
      "metadata": {
        "id": "f8jO8kJw2Ow4"
      },
      "source": [
        "###Load Model"
      ]
    },
    {
      "cell_type": "code",
      "metadata": {
        "id": "Q_im0owQ9BiO"
      },
      "source": [
        "sensorcomb = 'all3'\n",
        "sensor1combination = 'anklewrist'\n",
        "sensor2combination = 'wristthigh'\n",
        "modelname = 'convlstm_second_random'"
      ],
      "execution_count": null,
      "outputs": []
    },
    {
      "cell_type": "code",
      "metadata": {
        "id": "uvhLpKvmWkln"
      },
      "source": [
        "sensor = \"All\"\n",
        "SLIDING_WINDOW_LENGTH = 60\n",
        "NUM_CHANNEL=9"
      ],
      "execution_count": null,
      "outputs": []
    },
    {
      "cell_type": "code",
      "metadata": {
        "id": "RwzYKY5X9kEn"
      },
      "source": [
        "def load_model(sensor):\n",
        "    # json_file = open('/content/drive/MyDrive/MITACS_Nithin_Nithin_Nithin_Nithin/juravinski/models_figs/4act_'+ sensorcomb + '_' + modelname + '_retrained.json', 'r')\n",
        "    # loaded_model_json = json_file.read()\n",
        "    # json_file.close()\n",
        "    # model = model_from_json(loaded_model_json)\n",
        "    model = create_base_network()\n",
        "    # load weights into new model\n",
        "    model.load_weights('/content/drive/MyDrive/MITACS_Nithin/juravinski/models_figs/4act_'+ sensorcomb + '_' + modelname +'_retrained.h5')\n",
        "    print(\"Loaded model from disk\")\n",
        "    print(model.summary())\n",
        "    return model"
      ],
      "execution_count": null,
      "outputs": []
    },
    {
      "cell_type": "code",
      "metadata": {
        "colab": {
          "base_uri": "https://localhost:8080/"
        },
        "id": "qTGAyFomKTTD",
        "outputId": "16028d4c-db74-42ac-fbda-c18fa1742477"
      },
      "source": [
        "model = load_model(sensor)"
      ],
      "execution_count": null,
      "outputs": [
        {
          "output_type": "stream",
          "text": [
            "(None, 64, 56, 9)\n",
            "(None, 64, 52, 9)\n",
            "(None, 64, 48, 9)\n",
            "(None, 64, 44, 9)\n",
            "(None, 44, 64, 9)\n",
            "(None, 44, 576)\n",
            "(None, 44, 128)\n",
            "(None, 128)\n",
            "Loaded model from disk\n",
            "Model: \"model_4\"\n",
            "_________________________________________________________________\n",
            "Layer (type)                 Output Shape              Param #   \n",
            "=================================================================\n",
            "multi_input (InputLayer)     [(None, 1, 60, 9)]        0         \n",
            "_________________________________________________________________\n",
            "conv2d_20 (Conv2D)           (None, 64, 56, 9)         384       \n",
            "_________________________________________________________________\n",
            "conv2d_21 (Conv2D)           (None, 64, 52, 9)         20544     \n",
            "_________________________________________________________________\n",
            "conv2d_22 (Conv2D)           (None, 64, 48, 9)         20544     \n",
            "_________________________________________________________________\n",
            "conv2d_23 (Conv2D)           (None, 64, 44, 9)         20544     \n",
            "_________________________________________________________________\n",
            "permute_5 (Permute)          (None, 44, 64, 9)         0         \n",
            "_________________________________________________________________\n",
            "reshape_5 (Reshape)          (None, 44, 576)           0         \n",
            "_________________________________________________________________\n",
            "lstm_8 (LSTM)                (None, 44, 128)           360960    \n",
            "_________________________________________________________________\n",
            "lstm_9 (LSTM)                (None, 128)               131584    \n",
            "_________________________________________________________________\n",
            "dense_18 (Dense)             (None, 4)                 516       \n",
            "=================================================================\n",
            "Total params: 555,076\n",
            "Trainable params: 555,076\n",
            "Non-trainable params: 0\n",
            "_________________________________________________________________\n",
            "None\n"
          ],
          "name": "stdout"
        }
      ]
    },
    {
      "cell_type": "markdown",
      "metadata": {
        "id": "YFoM-RmY2USh"
      },
      "source": [
        "###Loading Test Data"
      ]
    },
    {
      "cell_type": "code",
      "metadata": {
        "colab": {
          "base_uri": "https://localhost:8080/"
        },
        "id": "xs8dZnX5H2eO",
        "outputId": "4e7e6b36-6ec4-464a-ad20-d8d81f80f7ef"
      },
      "source": [
        "x1,y1, channels = load_by_trial(1, 'test', 'All')\n",
        "x2,y2, channels = load_by_trial(2, 'test', 'All')\n",
        "\n",
        "X = np.vstack((x1,x2))\n",
        "X = X.reshape(-1,1,SLIDING_WINDOW_LENGTH,channels)\n",
        "y = np.concatenate((y1,y2))\n",
        "\n",
        "labels = np.array([0,1,2,3])\n",
        "lb = preprocessing.LabelBinarizer()\n",
        "lb.fit(y=labels)\n",
        "# X = np.reshape(X, (-1, SLIDING_WINDOW_LENGTH,channels,1))  #comment this line if running on GPU"
      ],
      "execution_count": null,
      "outputs": [
        {
          "output_type": "stream",
          "text": [
            "100%|██████████| 29/29 [00:39<00:00,  1.35s/it]\n",
            "100%|██████████| 29/29 [00:36<00:00,  1.26s/it]\n"
          ],
          "name": "stderr"
        },
        {
          "output_type": "execute_result",
          "data": {
            "text/plain": [
              "LabelBinarizer(neg_label=0, pos_label=1, sparse_output=False)"
            ]
          },
          "metadata": {
            "tags": []
          },
          "execution_count": 23
        }
      ]
    },
    {
      "cell_type": "code",
      "metadata": {
        "id": "8o2inNQQ9gpQ"
      },
      "source": [
        "# X = np.reshape(X, (-1, SLIDING_WINDOW_LENGTH,channels,1))  #comment this line if running on GPU"
      ],
      "execution_count": null,
      "outputs": []
    },
    {
      "cell_type": "code",
      "metadata": {
        "id": "Gk3hXgoW_L87"
      },
      "source": [
        "X = X.reshape(-1,1,SLIDING_WINDOW_LENGTH,channels)"
      ],
      "execution_count": null,
      "outputs": []
    },
    {
      "cell_type": "code",
      "metadata": {
        "id": "FTQPll8-7mwQ"
      },
      "source": [
        "X = np.reshape(X, (-1, SLIDING_WINDOW_LENGTH,channels))"
      ],
      "execution_count": null,
      "outputs": []
    },
    {
      "cell_type": "markdown",
      "metadata": {
        "id": "kLJ_PZBH2W5a"
      },
      "source": [
        "###Model Prediction"
      ]
    },
    {
      "cell_type": "code",
      "metadata": {
        "colab": {
          "base_uri": "https://localhost:8080/",
          "height": 739
        },
        "id": "zQa37Wd4I-ak",
        "outputId": "53a674c9-a053-480b-e3ac-cde23ffdbf62"
      },
      "source": [
        "predy = model.predict(X)\n",
        "y_hat = lb.inverse_transform(predy)\n",
        "acc = eval_perf(y_hat,y)"
      ],
      "execution_count": null,
      "outputs": [
        {
          "output_type": "stream",
          "text": [
            "Accuracy score is: \n",
            "0.9813608067275839\n",
            "Confusion Matrix is:\n",
            "[['97.97%' '1.89%' '0.07%' '0.07%']\n",
            " ['0.68%' '98.03%' '1.09%' '0.20%']\n",
            " ['0.03%' '1.09%' '98.54%' '0.35%']\n",
            " ['0.14%' '0.58%' '1.45%' '97.83%']]\n",
            "              precision    recall  f1-score   support\n",
            "\n",
            "       Lying       0.99      0.98      0.99      8479\n",
            "     Sitting       0.97      0.98      0.97      8425\n",
            "    Standing       0.98      0.99      0.98      7804\n",
            "     Walking       0.98      0.98      0.98      2761\n",
            "\n",
            "    accuracy                           0.98     27469\n",
            "   macro avg       0.98      0.98      0.98     27469\n",
            "weighted avg       0.98      0.98      0.98     27469\n",
            "\n"
          ],
          "name": "stdout"
        },
        {
          "output_type": "display_data",
          "data": {
            "image/png": "[encoded data removed]",
            "text/plain": [
              "<Figure size 720x504 with 2 Axes>"
            ]
          },
          "metadata": {
            "tags": [],
            "needs_background": "light"
          }
        }
      ]
    },
    {
      "cell_type": "markdown",
      "metadata": {
        "id": "ChuC6tGnXG0Y"
      },
      "source": [
        "##Visualizing Data"
      ]
    },
    {
      "cell_type": "code",
      "metadata": {
        "id": "K-yBhSso9Hrs",
        "colab": {
          "base_uri": "https://localhost:8080/",
          "height": 1000
        },
        "outputId": "51c45441-be44-450f-e426-b337fd910b39"
      },
      "source": [
        "X = np.load('/content/drive/MyDrive/MITACS_Nithin/juravinski/data/TransformertrainX.npy')\n",
        "y_onehot = np.load('/content/drive/MyDrive/MITACS_Nithin/juravinski/data/TransformertrainY.npy')\n",
        "fig = plt.figure(figsize=(20,20))\n",
        "x = range(1,61)\n",
        "idx=2\n",
        "ax1 = fig.add_subplot(3,3,1)\n",
        "yplot1 = X[idx, :, 0]\n",
        "ax2 = fig.add_subplot(3,3,2)\n",
        "yplot2 = X[idx, :, 1]\n",
        "ax3 = fig.add_subplot(3,3,3)\n",
        "yplot3 = X[idx, :, 2]\n",
        "ax4 = fig.add_subplot(3,3,4)\n",
        "yplot4 = X[idx, :, 3]\n",
        "ax5 = fig.add_subplot(3,3,5)\n",
        "yplot5 = X[idx, :, 4]\n",
        "ax6 = fig.add_subplot(3,3,6)\n",
        "yplot6 = X[idx, :, 5]\n",
        "ax7 = fig.add_subplot(3,3,7)\n",
        "yplot7 = X[idx, :, 6]\n",
        "ax8 = fig.add_subplot(3,3,8)\n",
        "yplot8 = X[idx, :, 7]\n",
        "ax9 = fig.add_subplot(3,3,9)\n",
        "yplot9 = X[idx, :, 8]\n",
        "\n",
        "\n",
        "ax1.plot(x,yplot1)\n",
        "ax2.plot(x,yplot2)\n",
        "ax3.plot(x,yplot3)\n",
        "ax4.plot(x,yplot4)\n",
        "ax5.plot(x,yplot5)\n",
        "ax6.plot(x,yplot6)\n",
        "ax7.plot(x,yplot7)\n",
        "ax8.plot(x,yplot8)\n",
        "ax9.plot(x,yplot9)\n",
        "\n",
        "# print(yplot)\n",
        "print(y[idx])\n",
        "# print(y_onehot[idx])"
      ],
      "execution_count": null,
      "outputs": [
        {
          "output_type": "error",
          "ename": "NameError",
          "evalue": "ignored",
          "traceback": [
            "\u001b[0;31m---------------------------------------------------------------------------\u001b[0m",
            "\u001b[0;31mNameError\u001b[0m                                 Traceback (most recent call last)",
            "\u001b[0;32m<ipython-input-7-cc51201ae98f>\u001b[0m in \u001b[0;36m<module>\u001b[0;34m()\u001b[0m\n\u001b[1;32m     35\u001b[0m \u001b[0;34m\u001b[0m\u001b[0m\n\u001b[1;32m     36\u001b[0m \u001b[0;31m# print(yplot)\u001b[0m\u001b[0;34m\u001b[0m\u001b[0;34m\u001b[0m\u001b[0;34m\u001b[0m\u001b[0m\n\u001b[0;32m---> 37\u001b[0;31m \u001b[0mprint\u001b[0m\u001b[0;34m(\u001b[0m\u001b[0my\u001b[0m\u001b[0;34m[\u001b[0m\u001b[0midx\u001b[0m\u001b[0;34m]\u001b[0m\u001b[0;34m)\u001b[0m\u001b[0;34m\u001b[0m\u001b[0;34m\u001b[0m\u001b[0m\n\u001b[0m\u001b[1;32m     38\u001b[0m \u001b[0;31m# print(y_onehot[idx])\u001b[0m\u001b[0;34m\u001b[0m\u001b[0;34m\u001b[0m\u001b[0;34m\u001b[0m\u001b[0m\n",
            "\u001b[0;31mNameError\u001b[0m: name 'y' is not defined"
          ]
        },
        {
          "output_type": "display_data",
          "data": {
            "image/png": "[encoded data removed]",
            "text/plain": [
              "<Figure size 1440x1440 with 9 Axes>"
            ]
          },
          "metadata": {
            "tags": [],
            "needs_background": "light"
          }
        }
      ]
    },
    {
      "cell_type": "code",
      "metadata": {
        "id": "ndDR6_4Xcs1z"
      },
      "source": [
        "import collections\n",
        "x1,y1 = load_by_trial(1)\n",
        "x2,y2 = load_by_trial(2)\n",
        "\n",
        "X = np.vstack((x1,x2))\n",
        "y = np.concatenate((y1,y2))\n",
        "print(collections.Counter(y))\n",
        "\n",
        "from imblearn.over_sampling import RandomOverSampler\n",
        "oversample = RandomOverSampler()\n",
        "X = X.reshape(-1,SLIDING_WINDOW_LENGTH*NUM_CHANNEL)\n",
        "X, y = oversample.fit_resample(X, y)\n",
        "print(collections.Counter(y))\n",
        "X = X.reshape(-1,1,SLIDING_WINDOW_LENGTH,NUM_CHANNEL)\n",
        "\n",
        "\n",
        "labels = np.array([0,1,2,3])\n",
        "lb = preprocessing.LabelBinarizer()\n",
        "lb.fit(y=labels)\n",
        "\n",
        "y_onehot = lb.transform(y) "
      ],
      "execution_count": null,
      "outputs": []
    }
  ]
}